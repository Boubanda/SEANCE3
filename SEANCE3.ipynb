{
 "cells": [
  {
   "cell_type": "markdown",
   "id": "3ee6975c",
   "metadata": {},
   "source": [
    "## Library Import"
   ]
  },
  {
   "cell_type": "code",
   "execution_count": 1,
   "id": "7c56afed",
   "metadata": {
    "ExecuteTime": {
     "end_time": "2023-10-10T07:30:04.828452Z",
     "start_time": "2023-10-10T07:29:38.411416Z"
    }
   },
   "outputs": [],
   "source": [
    "import seaborn #pour la visualisation des donnees\n",
    "import matplotlib #pour la visualisation\n",
    "import numpy    #pour les calculs scientifiques (calcul matriciel)\n",
    "import pandas  #pour les analyses de données , visualisation, manipulation\n",
    "import scipy   # pour faire des probabilités (statistique decisionnelle)\n",
    "import sklearn  # pour faire du machine learning\n",
    "\n",
    "\n",
    "\n",
    "import spacy #NLP\n",
    "import gensim #NLP\n",
    "#import pytube #lire des videos\n",
    "import tensorflow  #deep learning\n",
    "import keras #deep learning"
   ]
  },
  {
   "cell_type": "markdown",
   "id": "58e14900",
   "metadata": {},
   "source": [
    "## data access"
   ]
  },
  {
   "cell_type": "code",
   "execution_count": 2,
   "id": "2f52f16b",
   "metadata": {
    "ExecuteTime": {
     "end_time": "2023-10-10T07:30:04.906668Z",
     "start_time": "2023-10-10T07:30:04.836456Z"
    }
   },
   "outputs": [],
   "source": [
    "data=pandas.read_csv(r\"C:\\Users\\sambe\\Desktop\\AIVANCITY\\BACHELOR2\\MACHINE LEARNING\\Modele_Classification/HeartDiseaseUCI.csv\")"
   ]
  },
  {
   "cell_type": "code",
   "execution_count": 3,
   "id": "8aeb6643",
   "metadata": {
    "ExecuteTime": {
     "end_time": "2023-10-10T07:30:05.012447Z",
     "start_time": "2023-10-10T07:30:04.941105Z"
    }
   },
   "outputs": [
    {
     "data": {
      "text/html": [
       "<div>\n",
       "<style scoped>\n",
       "    .dataframe tbody tr th:only-of-type {\n",
       "        vertical-align: middle;\n",
       "    }\n",
       "\n",
       "    .dataframe tbody tr th {\n",
       "        vertical-align: top;\n",
       "    }\n",
       "\n",
       "    .dataframe thead th {\n",
       "        text-align: right;\n",
       "    }\n",
       "</style>\n",
       "<table border=\"1\" class=\"dataframe\">\n",
       "  <thead>\n",
       "    <tr style=\"text-align: right;\">\n",
       "      <th></th>\n",
       "      <th>Unnamed: 0</th>\n",
       "      <th>age</th>\n",
       "      <th>sex</th>\n",
       "      <th>cp</th>\n",
       "      <th>trestbps</th>\n",
       "      <th>chol</th>\n",
       "      <th>fbs</th>\n",
       "      <th>restecg</th>\n",
       "      <th>thalach</th>\n",
       "      <th>exang</th>\n",
       "      <th>oldpeak</th>\n",
       "      <th>slope</th>\n",
       "      <th>ca</th>\n",
       "      <th>thal</th>\n",
       "      <th>num</th>\n",
       "    </tr>\n",
       "  </thead>\n",
       "  <tbody>\n",
       "    <tr>\n",
       "      <th>0</th>\n",
       "      <td>1</td>\n",
       "      <td>63</td>\n",
       "      <td>1</td>\n",
       "      <td>1</td>\n",
       "      <td>145</td>\n",
       "      <td>233</td>\n",
       "      <td>1</td>\n",
       "      <td>2</td>\n",
       "      <td>150</td>\n",
       "      <td>0</td>\n",
       "      <td>2.3</td>\n",
       "      <td>3</td>\n",
       "      <td>0.0</td>\n",
       "      <td>6.0</td>\n",
       "      <td>0</td>\n",
       "    </tr>\n",
       "    <tr>\n",
       "      <th>1</th>\n",
       "      <td>2</td>\n",
       "      <td>67</td>\n",
       "      <td>1</td>\n",
       "      <td>4</td>\n",
       "      <td>160</td>\n",
       "      <td>286</td>\n",
       "      <td>0</td>\n",
       "      <td>2</td>\n",
       "      <td>108</td>\n",
       "      <td>1</td>\n",
       "      <td>1.5</td>\n",
       "      <td>2</td>\n",
       "      <td>3.0</td>\n",
       "      <td>3.0</td>\n",
       "      <td>2</td>\n",
       "    </tr>\n",
       "    <tr>\n",
       "      <th>2</th>\n",
       "      <td>3</td>\n",
       "      <td>67</td>\n",
       "      <td>1</td>\n",
       "      <td>4</td>\n",
       "      <td>120</td>\n",
       "      <td>229</td>\n",
       "      <td>0</td>\n",
       "      <td>2</td>\n",
       "      <td>129</td>\n",
       "      <td>1</td>\n",
       "      <td>2.6</td>\n",
       "      <td>2</td>\n",
       "      <td>2.0</td>\n",
       "      <td>7.0</td>\n",
       "      <td>1</td>\n",
       "    </tr>\n",
       "    <tr>\n",
       "      <th>3</th>\n",
       "      <td>4</td>\n",
       "      <td>37</td>\n",
       "      <td>1</td>\n",
       "      <td>3</td>\n",
       "      <td>130</td>\n",
       "      <td>250</td>\n",
       "      <td>0</td>\n",
       "      <td>0</td>\n",
       "      <td>187</td>\n",
       "      <td>0</td>\n",
       "      <td>3.5</td>\n",
       "      <td>3</td>\n",
       "      <td>0.0</td>\n",
       "      <td>3.0</td>\n",
       "      <td>0</td>\n",
       "    </tr>\n",
       "    <tr>\n",
       "      <th>4</th>\n",
       "      <td>5</td>\n",
       "      <td>41</td>\n",
       "      <td>0</td>\n",
       "      <td>2</td>\n",
       "      <td>130</td>\n",
       "      <td>204</td>\n",
       "      <td>0</td>\n",
       "      <td>2</td>\n",
       "      <td>172</td>\n",
       "      <td>0</td>\n",
       "      <td>1.4</td>\n",
       "      <td>1</td>\n",
       "      <td>0.0</td>\n",
       "      <td>3.0</td>\n",
       "      <td>0</td>\n",
       "    </tr>\n",
       "  </tbody>\n",
       "</table>\n",
       "</div>"
      ],
      "text/plain": [
       "   Unnamed: 0  age  sex  cp  trestbps  chol  fbs  restecg  thalach  exang  \\\n",
       "0           1   63    1   1       145   233    1        2      150      0   \n",
       "1           2   67    1   4       160   286    0        2      108      1   \n",
       "2           3   67    1   4       120   229    0        2      129      1   \n",
       "3           4   37    1   3       130   250    0        0      187      0   \n",
       "4           5   41    0   2       130   204    0        2      172      0   \n",
       "\n",
       "   oldpeak  slope   ca  thal  num  \n",
       "0      2.3      3  0.0   6.0    0  \n",
       "1      1.5      2  3.0   3.0    2  \n",
       "2      2.6      2  2.0   7.0    1  \n",
       "3      3.5      3  0.0   3.0    0  \n",
       "4      1.4      1  0.0   3.0    0  "
      ]
     },
     "execution_count": 3,
     "metadata": {},
     "output_type": "execute_result"
    }
   ],
   "source": [
    "data.head(5)"
   ]
  },
  {
   "cell_type": "raw",
   "id": "1f3779b1",
   "metadata": {},
   "source": [
    "âge\n",
    "sexe\n",
    "type de douleur thoracique (4 valeurs)\n",
    "tension artérielle au repos\n",
    "sérum cholestoral en mg/dl\n",
    "glycémie à jeun > 120 mg/dl\n",
    "résultats électrocardiographiques au repos (valeurs 0,1,2)\n",
    "fréquence cardiaque maximale atteinte\n",
    "angine induite par l'exercice\n",
    "oldpeak = dépression ST induite par l'exercice par rapport au repos\n",
    "la pente du segment ST d'exercice de pointe\n",
    "nombre de vaisseaux majeurs (0-3) colorés par fluorosopie\n",
    "thal : 0 = normal ; 1 = défaut corrigé ; 2 = défaut réversible.\n",
    "Les noms et numéros de sécurité sociale des patients ont été récemment supprimés de la base de données, remplacés par des valeurs factices."
   ]
  },
  {
   "cell_type": "code",
   "execution_count": 4,
   "id": "64d2f87e",
   "metadata": {
    "ExecuteTime": {
     "end_time": "2023-10-10T07:30:05.043293Z",
     "start_time": "2023-10-10T07:30:05.012447Z"
    }
   },
   "outputs": [
    {
     "data": {
      "text/plain": [
       "0    164\n",
       "1     55\n",
       "2     36\n",
       "3     35\n",
       "4     13\n",
       "Name: num, dtype: int64"
      ]
     },
     "execution_count": 4,
     "metadata": {},
     "output_type": "execute_result"
    }
   ],
   "source": [
    "data.num.value_counts()"
   ]
  },
  {
   "cell_type": "code",
   "execution_count": 5,
   "id": "cfb4db87",
   "metadata": {
    "ExecuteTime": {
     "end_time": "2023-10-10T07:30:05.059798Z",
     "start_time": "2023-10-10T07:30:05.044784Z"
    }
   },
   "outputs": [
    {
     "data": {
      "text/plain": [
       "0    54.125413\n",
       "1    18.151815\n",
       "2    11.881188\n",
       "3    11.551155\n",
       "4     4.290429\n",
       "Name: num, dtype: float64"
      ]
     },
     "execution_count": 5,
     "metadata": {},
     "output_type": "execute_result"
    }
   ],
   "source": [
    "data.num.value_counts(normalize=True)*100"
   ]
  },
  {
   "cell_type": "code",
   "execution_count": 6,
   "id": "31b54c34",
   "metadata": {
    "ExecuteTime": {
     "end_time": "2023-10-10T07:30:05.076054Z",
     "start_time": "2023-10-10T07:30:05.062037Z"
    }
   },
   "outputs": [],
   "source": [
    "#saine, benine,malade, tres malade, gravement malade"
   ]
  },
  {
   "cell_type": "code",
   "execution_count": 7,
   "id": "a07ee2a1",
   "metadata": {
    "ExecuteTime": {
     "end_time": "2023-10-10T07:30:05.092142Z",
     "start_time": "2023-10-10T07:30:05.078129Z"
    }
   },
   "outputs": [],
   "source": [
    "#dans notre base de données, 54% des gens sont sains, 4.2% gravement malades"
   ]
  },
  {
   "cell_type": "code",
   "execution_count": 8,
   "id": "5366e2c1",
   "metadata": {
    "ExecuteTime": {
     "end_time": "2023-10-10T07:30:05.140639Z",
     "start_time": "2023-10-10T07:30:05.094810Z"
    }
   },
   "outputs": [
    {
     "data": {
      "text/html": [
       "<div>\n",
       "<style scoped>\n",
       "    .dataframe tbody tr th:only-of-type {\n",
       "        vertical-align: middle;\n",
       "    }\n",
       "\n",
       "    .dataframe tbody tr th {\n",
       "        vertical-align: top;\n",
       "    }\n",
       "\n",
       "    .dataframe thead th {\n",
       "        text-align: right;\n",
       "    }\n",
       "</style>\n",
       "<table border=\"1\" class=\"dataframe\">\n",
       "  <thead>\n",
       "    <tr style=\"text-align: right;\">\n",
       "      <th></th>\n",
       "      <th>Unnamed: 0</th>\n",
       "      <th>age</th>\n",
       "      <th>sex</th>\n",
       "      <th>cp</th>\n",
       "      <th>trestbps</th>\n",
       "      <th>chol</th>\n",
       "      <th>fbs</th>\n",
       "      <th>restecg</th>\n",
       "      <th>thalach</th>\n",
       "      <th>exang</th>\n",
       "      <th>oldpeak</th>\n",
       "      <th>slope</th>\n",
       "      <th>ca</th>\n",
       "      <th>thal</th>\n",
       "      <th>num</th>\n",
       "    </tr>\n",
       "  </thead>\n",
       "  <tbody>\n",
       "    <tr>\n",
       "      <th>211</th>\n",
       "      <td>212</td>\n",
       "      <td>38</td>\n",
       "      <td>1</td>\n",
       "      <td>1</td>\n",
       "      <td>120</td>\n",
       "      <td>231</td>\n",
       "      <td>0</td>\n",
       "      <td>0</td>\n",
       "      <td>182</td>\n",
       "      <td>1</td>\n",
       "      <td>3.8</td>\n",
       "      <td>2</td>\n",
       "      <td>0.0</td>\n",
       "      <td>7.0</td>\n",
       "      <td>4</td>\n",
       "    </tr>\n",
       "  </tbody>\n",
       "</table>\n",
       "</div>"
      ],
      "text/plain": [
       "     Unnamed: 0  age  sex  cp  trestbps  chol  fbs  restecg  thalach  exang  \\\n",
       "211         212   38    1   1       120   231    0        0      182      1   \n",
       "\n",
       "     oldpeak  slope   ca  thal  num  \n",
       "211      3.8      2  0.0   7.0    4  "
      ]
     },
     "execution_count": 8,
     "metadata": {},
     "output_type": "execute_result"
    }
   ],
   "source": [
    "data.query('num==4 and age<45')"
   ]
  },
  {
   "cell_type": "markdown",
   "id": "ae8c85f9",
   "metadata": {},
   "source": [
    "## donnees insignifiantes"
   ]
  },
  {
   "cell_type": "code",
   "execution_count": 9,
   "id": "e315fe49",
   "metadata": {
    "ExecuteTime": {
     "end_time": "2023-10-10T07:30:05.176918Z",
     "start_time": "2023-10-10T07:30:05.140639Z"
    }
   },
   "outputs": [
    {
     "data": {
      "text/html": [
       "<div>\n",
       "<style scoped>\n",
       "    .dataframe tbody tr th:only-of-type {\n",
       "        vertical-align: middle;\n",
       "    }\n",
       "\n",
       "    .dataframe tbody tr th {\n",
       "        vertical-align: top;\n",
       "    }\n",
       "\n",
       "    .dataframe thead th {\n",
       "        text-align: right;\n",
       "    }\n",
       "</style>\n",
       "<table border=\"1\" class=\"dataframe\">\n",
       "  <thead>\n",
       "    <tr style=\"text-align: right;\">\n",
       "      <th></th>\n",
       "      <th>Unnamed: 0</th>\n",
       "      <th>age</th>\n",
       "      <th>sex</th>\n",
       "      <th>cp</th>\n",
       "      <th>trestbps</th>\n",
       "      <th>chol</th>\n",
       "      <th>fbs</th>\n",
       "      <th>restecg</th>\n",
       "      <th>thalach</th>\n",
       "      <th>exang</th>\n",
       "      <th>oldpeak</th>\n",
       "      <th>slope</th>\n",
       "      <th>ca</th>\n",
       "      <th>thal</th>\n",
       "      <th>num</th>\n",
       "    </tr>\n",
       "  </thead>\n",
       "  <tbody>\n",
       "    <tr>\n",
       "      <th>0</th>\n",
       "      <td>1</td>\n",
       "      <td>63</td>\n",
       "      <td>1</td>\n",
       "      <td>1</td>\n",
       "      <td>145</td>\n",
       "      <td>233</td>\n",
       "      <td>1</td>\n",
       "      <td>2</td>\n",
       "      <td>150</td>\n",
       "      <td>0</td>\n",
       "      <td>2.3</td>\n",
       "      <td>3</td>\n",
       "      <td>0.0</td>\n",
       "      <td>6.0</td>\n",
       "      <td>0</td>\n",
       "    </tr>\n",
       "    <tr>\n",
       "      <th>1</th>\n",
       "      <td>2</td>\n",
       "      <td>67</td>\n",
       "      <td>1</td>\n",
       "      <td>4</td>\n",
       "      <td>160</td>\n",
       "      <td>286</td>\n",
       "      <td>0</td>\n",
       "      <td>2</td>\n",
       "      <td>108</td>\n",
       "      <td>1</td>\n",
       "      <td>1.5</td>\n",
       "      <td>2</td>\n",
       "      <td>3.0</td>\n",
       "      <td>3.0</td>\n",
       "      <td>2</td>\n",
       "    </tr>\n",
       "    <tr>\n",
       "      <th>2</th>\n",
       "      <td>3</td>\n",
       "      <td>67</td>\n",
       "      <td>1</td>\n",
       "      <td>4</td>\n",
       "      <td>120</td>\n",
       "      <td>229</td>\n",
       "      <td>0</td>\n",
       "      <td>2</td>\n",
       "      <td>129</td>\n",
       "      <td>1</td>\n",
       "      <td>2.6</td>\n",
       "      <td>2</td>\n",
       "      <td>2.0</td>\n",
       "      <td>7.0</td>\n",
       "      <td>1</td>\n",
       "    </tr>\n",
       "    <tr>\n",
       "      <th>3</th>\n",
       "      <td>4</td>\n",
       "      <td>37</td>\n",
       "      <td>1</td>\n",
       "      <td>3</td>\n",
       "      <td>130</td>\n",
       "      <td>250</td>\n",
       "      <td>0</td>\n",
       "      <td>0</td>\n",
       "      <td>187</td>\n",
       "      <td>0</td>\n",
       "      <td>3.5</td>\n",
       "      <td>3</td>\n",
       "      <td>0.0</td>\n",
       "      <td>3.0</td>\n",
       "      <td>0</td>\n",
       "    </tr>\n",
       "    <tr>\n",
       "      <th>4</th>\n",
       "      <td>5</td>\n",
       "      <td>41</td>\n",
       "      <td>0</td>\n",
       "      <td>2</td>\n",
       "      <td>130</td>\n",
       "      <td>204</td>\n",
       "      <td>0</td>\n",
       "      <td>2</td>\n",
       "      <td>172</td>\n",
       "      <td>0</td>\n",
       "      <td>1.4</td>\n",
       "      <td>1</td>\n",
       "      <td>0.0</td>\n",
       "      <td>3.0</td>\n",
       "      <td>0</td>\n",
       "    </tr>\n",
       "  </tbody>\n",
       "</table>\n",
       "</div>"
      ],
      "text/plain": [
       "   Unnamed: 0  age  sex  cp  trestbps  chol  fbs  restecg  thalach  exang  \\\n",
       "0           1   63    1   1       145   233    1        2      150      0   \n",
       "1           2   67    1   4       160   286    0        2      108      1   \n",
       "2           3   67    1   4       120   229    0        2      129      1   \n",
       "3           4   37    1   3       130   250    0        0      187      0   \n",
       "4           5   41    0   2       130   204    0        2      172      0   \n",
       "\n",
       "   oldpeak  slope   ca  thal  num  \n",
       "0      2.3      3  0.0   6.0    0  \n",
       "1      1.5      2  3.0   3.0    2  \n",
       "2      2.6      2  2.0   7.0    1  \n",
       "3      3.5      3  0.0   3.0    0  \n",
       "4      1.4      1  0.0   3.0    0  "
      ]
     },
     "execution_count": 9,
     "metadata": {},
     "output_type": "execute_result"
    }
   ],
   "source": [
    "data.head()"
   ]
  },
  {
   "cell_type": "code",
   "execution_count": 10,
   "id": "d8f71a88",
   "metadata": {
    "ExecuteTime": {
     "end_time": "2023-10-10T07:30:05.221596Z",
     "start_time": "2023-10-10T07:30:05.189627Z"
    }
   },
   "outputs": [
    {
     "data": {
      "text/plain": [
       "Index(['Unnamed: 0', 'age', 'sex', 'cp', 'trestbps', 'chol', 'fbs', 'restecg',\n",
       "       'thalach', 'exang', 'oldpeak', 'slope', 'ca', 'thal', 'num'],\n",
       "      dtype='object')"
      ]
     },
     "execution_count": 10,
     "metadata": {},
     "output_type": "execute_result"
    }
   ],
   "source": [
    "data.columns"
   ]
  },
  {
   "cell_type": "code",
   "execution_count": 11,
   "id": "a277f171",
   "metadata": {
    "ExecuteTime": {
     "end_time": "2023-10-10T07:30:05.238063Z",
     "start_time": "2023-10-10T07:30:05.221596Z"
    }
   },
   "outputs": [],
   "source": [
    "data=data.drop(columns=['Unnamed: 0'])"
   ]
  },
  {
   "cell_type": "code",
   "execution_count": 12,
   "id": "3aa086c4",
   "metadata": {
    "ExecuteTime": {
     "end_time": "2023-10-10T07:30:05.269822Z",
     "start_time": "2023-10-10T07:30:05.238063Z"
    }
   },
   "outputs": [
    {
     "data": {
      "text/html": [
       "<div>\n",
       "<style scoped>\n",
       "    .dataframe tbody tr th:only-of-type {\n",
       "        vertical-align: middle;\n",
       "    }\n",
       "\n",
       "    .dataframe tbody tr th {\n",
       "        vertical-align: top;\n",
       "    }\n",
       "\n",
       "    .dataframe thead th {\n",
       "        text-align: right;\n",
       "    }\n",
       "</style>\n",
       "<table border=\"1\" class=\"dataframe\">\n",
       "  <thead>\n",
       "    <tr style=\"text-align: right;\">\n",
       "      <th></th>\n",
       "      <th>age</th>\n",
       "      <th>sex</th>\n",
       "      <th>cp</th>\n",
       "      <th>trestbps</th>\n",
       "      <th>chol</th>\n",
       "      <th>fbs</th>\n",
       "      <th>restecg</th>\n",
       "      <th>thalach</th>\n",
       "      <th>exang</th>\n",
       "      <th>oldpeak</th>\n",
       "      <th>slope</th>\n",
       "      <th>ca</th>\n",
       "      <th>thal</th>\n",
       "      <th>num</th>\n",
       "    </tr>\n",
       "  </thead>\n",
       "  <tbody>\n",
       "    <tr>\n",
       "      <th>0</th>\n",
       "      <td>63</td>\n",
       "      <td>1</td>\n",
       "      <td>1</td>\n",
       "      <td>145</td>\n",
       "      <td>233</td>\n",
       "      <td>1</td>\n",
       "      <td>2</td>\n",
       "      <td>150</td>\n",
       "      <td>0</td>\n",
       "      <td>2.3</td>\n",
       "      <td>3</td>\n",
       "      <td>0.0</td>\n",
       "      <td>6.0</td>\n",
       "      <td>0</td>\n",
       "    </tr>\n",
       "    <tr>\n",
       "      <th>1</th>\n",
       "      <td>67</td>\n",
       "      <td>1</td>\n",
       "      <td>4</td>\n",
       "      <td>160</td>\n",
       "      <td>286</td>\n",
       "      <td>0</td>\n",
       "      <td>2</td>\n",
       "      <td>108</td>\n",
       "      <td>1</td>\n",
       "      <td>1.5</td>\n",
       "      <td>2</td>\n",
       "      <td>3.0</td>\n",
       "      <td>3.0</td>\n",
       "      <td>2</td>\n",
       "    </tr>\n",
       "    <tr>\n",
       "      <th>2</th>\n",
       "      <td>67</td>\n",
       "      <td>1</td>\n",
       "      <td>4</td>\n",
       "      <td>120</td>\n",
       "      <td>229</td>\n",
       "      <td>0</td>\n",
       "      <td>2</td>\n",
       "      <td>129</td>\n",
       "      <td>1</td>\n",
       "      <td>2.6</td>\n",
       "      <td>2</td>\n",
       "      <td>2.0</td>\n",
       "      <td>7.0</td>\n",
       "      <td>1</td>\n",
       "    </tr>\n",
       "  </tbody>\n",
       "</table>\n",
       "</div>"
      ],
      "text/plain": [
       "   age  sex  cp  trestbps  chol  fbs  restecg  thalach  exang  oldpeak  slope  \\\n",
       "0   63    1   1       145   233    1        2      150      0      2.3      3   \n",
       "1   67    1   4       160   286    0        2      108      1      1.5      2   \n",
       "2   67    1   4       120   229    0        2      129      1      2.6      2   \n",
       "\n",
       "    ca  thal  num  \n",
       "0  0.0   6.0    0  \n",
       "1  3.0   3.0    2  \n",
       "2  2.0   7.0    1  "
      ]
     },
     "execution_count": 12,
     "metadata": {},
     "output_type": "execute_result"
    }
   ],
   "source": [
    "data.head(3)"
   ]
  },
  {
   "cell_type": "code",
   "execution_count": 13,
   "id": "ba506c5d",
   "metadata": {
    "ExecuteTime": {
     "end_time": "2023-10-10T07:30:05.293962Z",
     "start_time": "2023-10-10T07:30:05.269822Z"
    }
   },
   "outputs": [
    {
     "data": {
      "text/plain": [
       "(303, 14)"
      ]
     },
     "execution_count": 13,
     "metadata": {},
     "output_type": "execute_result"
    }
   ],
   "source": [
    "data.shape  #la taille du dataset"
   ]
  },
  {
   "cell_type": "code",
   "execution_count": 14,
   "id": "f63b5dac",
   "metadata": {
    "ExecuteTime": {
     "end_time": "2023-10-10T07:30:05.310164Z",
     "start_time": "2023-10-10T07:30:05.294647Z"
    }
   },
   "outputs": [],
   "source": [
    "#on a interogé 303 personnes et dispose de 14 infos pour chacune d'elle "
   ]
  },
  {
   "cell_type": "markdown",
   "id": "03d51e19",
   "metadata": {},
   "source": [
    "## donnees manquantes"
   ]
  },
  {
   "cell_type": "code",
   "execution_count": 15,
   "id": "659a4984",
   "metadata": {
    "ExecuteTime": {
     "end_time": "2023-10-10T07:30:05.358621Z",
     "start_time": "2023-10-10T07:30:05.311248Z"
    }
   },
   "outputs": [
    {
     "data": {
      "text/html": [
       "<div>\n",
       "<style scoped>\n",
       "    .dataframe tbody tr th:only-of-type {\n",
       "        vertical-align: middle;\n",
       "    }\n",
       "\n",
       "    .dataframe tbody tr th {\n",
       "        vertical-align: top;\n",
       "    }\n",
       "\n",
       "    .dataframe thead th {\n",
       "        text-align: right;\n",
       "    }\n",
       "</style>\n",
       "<table border=\"1\" class=\"dataframe\">\n",
       "  <thead>\n",
       "    <tr style=\"text-align: right;\">\n",
       "      <th></th>\n",
       "      <th>age</th>\n",
       "      <th>sex</th>\n",
       "      <th>cp</th>\n",
       "      <th>trestbps</th>\n",
       "      <th>chol</th>\n",
       "      <th>fbs</th>\n",
       "      <th>restecg</th>\n",
       "      <th>thalach</th>\n",
       "      <th>exang</th>\n",
       "      <th>oldpeak</th>\n",
       "      <th>slope</th>\n",
       "      <th>ca</th>\n",
       "      <th>thal</th>\n",
       "      <th>num</th>\n",
       "    </tr>\n",
       "  </thead>\n",
       "  <tbody>\n",
       "    <tr>\n",
       "      <th>0</th>\n",
       "      <td>False</td>\n",
       "      <td>False</td>\n",
       "      <td>False</td>\n",
       "      <td>False</td>\n",
       "      <td>False</td>\n",
       "      <td>False</td>\n",
       "      <td>False</td>\n",
       "      <td>False</td>\n",
       "      <td>False</td>\n",
       "      <td>False</td>\n",
       "      <td>False</td>\n",
       "      <td>False</td>\n",
       "      <td>False</td>\n",
       "      <td>False</td>\n",
       "    </tr>\n",
       "    <tr>\n",
       "      <th>1</th>\n",
       "      <td>False</td>\n",
       "      <td>False</td>\n",
       "      <td>False</td>\n",
       "      <td>False</td>\n",
       "      <td>False</td>\n",
       "      <td>False</td>\n",
       "      <td>False</td>\n",
       "      <td>False</td>\n",
       "      <td>False</td>\n",
       "      <td>False</td>\n",
       "      <td>False</td>\n",
       "      <td>False</td>\n",
       "      <td>False</td>\n",
       "      <td>False</td>\n",
       "    </tr>\n",
       "    <tr>\n",
       "      <th>2</th>\n",
       "      <td>False</td>\n",
       "      <td>False</td>\n",
       "      <td>False</td>\n",
       "      <td>False</td>\n",
       "      <td>False</td>\n",
       "      <td>False</td>\n",
       "      <td>False</td>\n",
       "      <td>False</td>\n",
       "      <td>False</td>\n",
       "      <td>False</td>\n",
       "      <td>False</td>\n",
       "      <td>False</td>\n",
       "      <td>False</td>\n",
       "      <td>False</td>\n",
       "    </tr>\n",
       "    <tr>\n",
       "      <th>3</th>\n",
       "      <td>False</td>\n",
       "      <td>False</td>\n",
       "      <td>False</td>\n",
       "      <td>False</td>\n",
       "      <td>False</td>\n",
       "      <td>False</td>\n",
       "      <td>False</td>\n",
       "      <td>False</td>\n",
       "      <td>False</td>\n",
       "      <td>False</td>\n",
       "      <td>False</td>\n",
       "      <td>False</td>\n",
       "      <td>False</td>\n",
       "      <td>False</td>\n",
       "    </tr>\n",
       "    <tr>\n",
       "      <th>4</th>\n",
       "      <td>False</td>\n",
       "      <td>False</td>\n",
       "      <td>False</td>\n",
       "      <td>False</td>\n",
       "      <td>False</td>\n",
       "      <td>False</td>\n",
       "      <td>False</td>\n",
       "      <td>False</td>\n",
       "      <td>False</td>\n",
       "      <td>False</td>\n",
       "      <td>False</td>\n",
       "      <td>False</td>\n",
       "      <td>False</td>\n",
       "      <td>False</td>\n",
       "    </tr>\n",
       "    <tr>\n",
       "      <th>...</th>\n",
       "      <td>...</td>\n",
       "      <td>...</td>\n",
       "      <td>...</td>\n",
       "      <td>...</td>\n",
       "      <td>...</td>\n",
       "      <td>...</td>\n",
       "      <td>...</td>\n",
       "      <td>...</td>\n",
       "      <td>...</td>\n",
       "      <td>...</td>\n",
       "      <td>...</td>\n",
       "      <td>...</td>\n",
       "      <td>...</td>\n",
       "      <td>...</td>\n",
       "    </tr>\n",
       "    <tr>\n",
       "      <th>298</th>\n",
       "      <td>False</td>\n",
       "      <td>False</td>\n",
       "      <td>False</td>\n",
       "      <td>False</td>\n",
       "      <td>False</td>\n",
       "      <td>False</td>\n",
       "      <td>False</td>\n",
       "      <td>False</td>\n",
       "      <td>False</td>\n",
       "      <td>False</td>\n",
       "      <td>False</td>\n",
       "      <td>False</td>\n",
       "      <td>False</td>\n",
       "      <td>False</td>\n",
       "    </tr>\n",
       "    <tr>\n",
       "      <th>299</th>\n",
       "      <td>False</td>\n",
       "      <td>False</td>\n",
       "      <td>False</td>\n",
       "      <td>False</td>\n",
       "      <td>False</td>\n",
       "      <td>False</td>\n",
       "      <td>False</td>\n",
       "      <td>False</td>\n",
       "      <td>False</td>\n",
       "      <td>False</td>\n",
       "      <td>False</td>\n",
       "      <td>False</td>\n",
       "      <td>False</td>\n",
       "      <td>False</td>\n",
       "    </tr>\n",
       "    <tr>\n",
       "      <th>300</th>\n",
       "      <td>False</td>\n",
       "      <td>False</td>\n",
       "      <td>False</td>\n",
       "      <td>False</td>\n",
       "      <td>False</td>\n",
       "      <td>False</td>\n",
       "      <td>False</td>\n",
       "      <td>False</td>\n",
       "      <td>False</td>\n",
       "      <td>False</td>\n",
       "      <td>False</td>\n",
       "      <td>False</td>\n",
       "      <td>False</td>\n",
       "      <td>False</td>\n",
       "    </tr>\n",
       "    <tr>\n",
       "      <th>301</th>\n",
       "      <td>False</td>\n",
       "      <td>False</td>\n",
       "      <td>False</td>\n",
       "      <td>False</td>\n",
       "      <td>False</td>\n",
       "      <td>False</td>\n",
       "      <td>False</td>\n",
       "      <td>False</td>\n",
       "      <td>False</td>\n",
       "      <td>False</td>\n",
       "      <td>False</td>\n",
       "      <td>False</td>\n",
       "      <td>False</td>\n",
       "      <td>False</td>\n",
       "    </tr>\n",
       "    <tr>\n",
       "      <th>302</th>\n",
       "      <td>False</td>\n",
       "      <td>False</td>\n",
       "      <td>False</td>\n",
       "      <td>False</td>\n",
       "      <td>False</td>\n",
       "      <td>False</td>\n",
       "      <td>False</td>\n",
       "      <td>False</td>\n",
       "      <td>False</td>\n",
       "      <td>False</td>\n",
       "      <td>False</td>\n",
       "      <td>True</td>\n",
       "      <td>False</td>\n",
       "      <td>False</td>\n",
       "    </tr>\n",
       "  </tbody>\n",
       "</table>\n",
       "<p>303 rows × 14 columns</p>\n",
       "</div>"
      ],
      "text/plain": [
       "       age    sex     cp  trestbps   chol    fbs  restecg  thalach  exang  \\\n",
       "0    False  False  False     False  False  False    False    False  False   \n",
       "1    False  False  False     False  False  False    False    False  False   \n",
       "2    False  False  False     False  False  False    False    False  False   \n",
       "3    False  False  False     False  False  False    False    False  False   \n",
       "4    False  False  False     False  False  False    False    False  False   \n",
       "..     ...    ...    ...       ...    ...    ...      ...      ...    ...   \n",
       "298  False  False  False     False  False  False    False    False  False   \n",
       "299  False  False  False     False  False  False    False    False  False   \n",
       "300  False  False  False     False  False  False    False    False  False   \n",
       "301  False  False  False     False  False  False    False    False  False   \n",
       "302  False  False  False     False  False  False    False    False  False   \n",
       "\n",
       "     oldpeak  slope     ca   thal    num  \n",
       "0      False  False  False  False  False  \n",
       "1      False  False  False  False  False  \n",
       "2      False  False  False  False  False  \n",
       "3      False  False  False  False  False  \n",
       "4      False  False  False  False  False  \n",
       "..       ...    ...    ...    ...    ...  \n",
       "298    False  False  False  False  False  \n",
       "299    False  False  False  False  False  \n",
       "300    False  False  False  False  False  \n",
       "301    False  False  False  False  False  \n",
       "302    False  False   True  False  False  \n",
       "\n",
       "[303 rows x 14 columns]"
      ]
     },
     "execution_count": 15,
     "metadata": {},
     "output_type": "execute_result"
    }
   ],
   "source": [
    "data.isna()   #permet de savoir si la donnee est manquante ou pas"
   ]
  },
  {
   "cell_type": "code",
   "execution_count": 16,
   "id": "ccc9e0b7",
   "metadata": {
    "ExecuteTime": {
     "end_time": "2023-10-10T07:30:05.374782Z",
     "start_time": "2023-10-10T07:30:05.361764Z"
    }
   },
   "outputs": [
    {
     "data": {
      "text/plain": [
       "age         0\n",
       "sex         0\n",
       "cp          0\n",
       "trestbps    0\n",
       "chol        0\n",
       "fbs         0\n",
       "restecg     0\n",
       "thalach     0\n",
       "exang       0\n",
       "oldpeak     0\n",
       "slope       0\n",
       "ca          4\n",
       "thal        2\n",
       "num         0\n",
       "dtype: int64"
      ]
     },
     "execution_count": 16,
     "metadata": {},
     "output_type": "execute_result"
    }
   ],
   "source": [
    "data.isna().sum()"
   ]
  },
  {
   "cell_type": "code",
   "execution_count": 17,
   "id": "cedaaf3a",
   "metadata": {
    "ExecuteTime": {
     "end_time": "2023-10-10T07:30:05.388989Z",
     "start_time": "2023-10-10T07:30:05.377969Z"
    }
   },
   "outputs": [],
   "source": [
    "#2 colonnes (ca et thal) comportent des donnees manquantes (resp 4 et 2)"
   ]
  },
  {
   "cell_type": "code",
   "execution_count": 18,
   "id": "702f505f",
   "metadata": {
    "ExecuteTime": {
     "end_time": "2023-10-10T07:30:05.423708Z",
     "start_time": "2023-10-10T07:30:05.395994Z"
    }
   },
   "outputs": [
    {
     "data": {
      "text/plain": [
       "6"
      ]
     },
     "execution_count": 18,
     "metadata": {},
     "output_type": "execute_result"
    }
   ],
   "source": [
    "data.isna().sum().sum()"
   ]
  },
  {
   "cell_type": "code",
   "execution_count": 19,
   "id": "be7666fe",
   "metadata": {
    "ExecuteTime": {
     "end_time": "2023-10-10T07:30:05.439828Z",
     "start_time": "2023-10-10T07:30:05.427814Z"
    }
   },
   "outputs": [],
   "source": [
    "#on a que 6 donnees manquantes dans tout le dataset (une tres bonne information pour notre modele d'IA)"
   ]
  },
  {
   "cell_type": "markdown",
   "id": "2de4e0a3",
   "metadata": {},
   "source": [
    "## donnees aberantes"
   ]
  },
  {
   "cell_type": "code",
   "execution_count": 20,
   "id": "b8de64f5",
   "metadata": {
    "ExecuteTime": {
     "end_time": "2023-10-10T07:30:06.458744Z",
     "start_time": "2023-10-10T07:30:05.444531Z"
    }
   },
   "outputs": [
    {
     "data": {
      "text/plain": [
       "<AxesSubplot:>"
      ]
     },
     "execution_count": 20,
     "metadata": {},
     "output_type": "execute_result"
    },
    {
     "data": {
      "image/png": "[encoded data removed]",
      "text/plain": [
       "<Figure size 1080x720 with 1 Axes>"
      ]
     },
     "metadata": {
      "needs_background": "light"
     },
     "output_type": "display_data"
    }
   ],
   "source": [
    "data.plot(kind=\"box\", figsize=(15,10))"
   ]
  },
  {
   "cell_type": "code",
   "execution_count": 21,
   "id": "7989f4f7",
   "metadata": {
    "ExecuteTime": {
     "end_time": "2023-10-10T07:30:09.216047Z",
     "start_time": "2023-10-10T07:30:06.462704Z"
    }
   },
   "outputs": [
    {
     "data": {
      "image/png": "[encoded data removed]",
      "text/plain": [
       "<Figure size 720x720 with 20 Axes>"
      ]
     },
     "metadata": {
      "needs_background": "light"
     },
     "output_type": "display_data"
    }
   ],
   "source": [
    "data.plot(kind=\"box\", subplots=True, layout=(10,2), figsize=(10,10));"
   ]
  },
  {
   "cell_type": "code",
   "execution_count": 22,
   "id": "ba5cf737",
   "metadata": {
    "ExecuteTime": {
     "end_time": "2023-10-10T07:30:09.539977Z",
     "start_time": "2023-10-10T07:30:09.220076Z"
    }
   },
   "outputs": [
    {
     "data": {
      "text/plain": [
       "<AxesSubplot:>"
      ]
     },
     "execution_count": 22,
     "metadata": {},
     "output_type": "execute_result"
    },
    {
     "data": {
      "image/png": "[encoded data removed]",
      "text/plain": [
       "<Figure size 432x288 with 1 Axes>"
      ]
     },
     "metadata": {
      "needs_background": "light"
     },
     "output_type": "display_data"
    }
   ],
   "source": [
    "data.chol.plot(kind=\"box\")"
   ]
  },
  {
   "cell_type": "code",
   "execution_count": 23,
   "id": "ca6ec979",
   "metadata": {
    "ExecuteTime": {
     "end_time": "2023-10-10T07:30:09.574053Z",
     "start_time": "2023-10-10T07:30:09.539977Z"
    }
   },
   "outputs": [
    {
     "data": {
      "text/plain": [
       "211.0"
      ]
     },
     "execution_count": 23,
     "metadata": {},
     "output_type": "execute_result"
    }
   ],
   "source": [
    "Q1=data.chol.quantile(0.25)\n",
    "Q1"
   ]
  },
  {
   "cell_type": "code",
   "execution_count": 24,
   "id": "17ad2d16",
   "metadata": {
    "ExecuteTime": {
     "end_time": "2023-10-10T07:30:09.622656Z",
     "start_time": "2023-10-10T07:30:09.580248Z"
    }
   },
   "outputs": [
    {
     "data": {
      "text/plain": [
       "275.0"
      ]
     },
     "execution_count": 24,
     "metadata": {},
     "output_type": "execute_result"
    }
   ],
   "source": [
    "Q3=data.chol.quantile(0.75)\n",
    "Q3"
   ]
  },
  {
   "cell_type": "code",
   "execution_count": 25,
   "id": "655c7e55",
   "metadata": {
    "ExecuteTime": {
     "end_time": "2023-10-10T07:30:09.655344Z",
     "start_time": "2023-10-10T07:30:09.626104Z"
    }
   },
   "outputs": [
    {
     "data": {
      "text/plain": [
       "64.0"
      ]
     },
     "execution_count": 25,
     "metadata": {},
     "output_type": "execute_result"
    }
   ],
   "source": [
    "IQR=Q3-Q1\n",
    "IQR"
   ]
  },
  {
   "cell_type": "code",
   "execution_count": 26,
   "id": "3bb21f85",
   "metadata": {
    "ExecuteTime": {
     "end_time": "2023-10-10T07:30:09.698135Z",
     "start_time": "2023-10-10T07:30:09.657244Z"
    }
   },
   "outputs": [
    {
     "data": {
      "text/plain": [
       "371.0"
      ]
     },
     "execution_count": 26,
     "metadata": {},
     "output_type": "execute_result"
    }
   ],
   "source": [
    "outliers_max=Q3+1.5*IQR\n",
    "outliers_max"
   ]
  },
  {
   "cell_type": "code",
   "execution_count": 27,
   "id": "00da9cef",
   "metadata": {
    "ExecuteTime": {
     "end_time": "2023-10-10T07:30:09.737925Z",
     "start_time": "2023-10-10T07:30:09.707254Z"
    }
   },
   "outputs": [
    {
     "data": {
      "text/plain": [
       "115.0"
      ]
     },
     "execution_count": 27,
     "metadata": {},
     "output_type": "execute_result"
    }
   ],
   "source": [
    "outliers_min=Q1-1.5*IQR\n",
    "outliers_min"
   ]
  },
  {
   "cell_type": "code",
   "execution_count": 28,
   "id": "759e855e",
   "metadata": {
    "ExecuteTime": {
     "end_time": "2023-10-10T07:30:09.802428Z",
     "start_time": "2023-10-10T07:30:09.778152Z"
    }
   },
   "outputs": [],
   "source": [
    "#tous les taux de cholesterol superieure à 371 ou inferieure à 115 peuvent consideré comme des valeurs aberantes (anormales, atypiques, anomalies)"
   ]
  },
  {
   "cell_type": "code",
   "execution_count": 29,
   "id": "a9167204",
   "metadata": {
    "ExecuteTime": {
     "end_time": "2023-10-10T07:30:09.862113Z",
     "start_time": "2023-10-10T07:30:09.824031Z"
    }
   },
   "outputs": [
    {
     "data": {
      "text/plain": [
       "age          48.0\n",
       "sex           0.0\n",
       "cp            3.0\n",
       "trestbps    120.0\n",
       "chol        211.0\n",
       "fbs           0.0\n",
       "restecg       0.0\n",
       "thalach     133.5\n",
       "exang         0.0\n",
       "oldpeak       0.0\n",
       "slope         1.0\n",
       "ca            0.0\n",
       "thal          3.0\n",
       "num           0.0\n",
       "Name: 0.25, dtype: float64"
      ]
     },
     "execution_count": 29,
     "metadata": {},
     "output_type": "execute_result"
    }
   ],
   "source": [
    "Q1=data.quantile(0.25)\n",
    "Q1"
   ]
  },
  {
   "cell_type": "code",
   "execution_count": 30,
   "id": "8c07cc68",
   "metadata": {
    "ExecuteTime": {
     "end_time": "2023-10-10T07:30:09.923491Z",
     "start_time": "2023-10-10T07:30:09.873803Z"
    }
   },
   "outputs": [
    {
     "data": {
      "text/plain": [
       "age          61.0\n",
       "sex           1.0\n",
       "cp            4.0\n",
       "trestbps    140.0\n",
       "chol        275.0\n",
       "fbs           0.0\n",
       "restecg       2.0\n",
       "thalach     166.0\n",
       "exang         1.0\n",
       "oldpeak       1.6\n",
       "slope         2.0\n",
       "ca            1.0\n",
       "thal          7.0\n",
       "num           2.0\n",
       "Name: 0.75, dtype: float64"
      ]
     },
     "execution_count": 30,
     "metadata": {},
     "output_type": "execute_result"
    }
   ],
   "source": [
    "Q3=data.quantile(0.75)\n",
    "Q3"
   ]
  },
  {
   "cell_type": "code",
   "execution_count": 31,
   "id": "9d517ffd",
   "metadata": {
    "ExecuteTime": {
     "end_time": "2023-10-10T07:30:09.956976Z",
     "start_time": "2023-10-10T07:30:09.931499Z"
    }
   },
   "outputs": [],
   "source": [
    "IQR=Q3-Q1\n",
    "outliers_min=Q1-1.5*IQR\n",
    "outliers_max=Q3+1.5*IQR\n"
   ]
  },
  {
   "cell_type": "code",
   "execution_count": 32,
   "id": "10895867",
   "metadata": {
    "ExecuteTime": {
     "end_time": "2023-10-10T07:30:10.006894Z",
     "start_time": "2023-10-10T07:30:09.964487Z"
    }
   },
   "outputs": [
    {
     "data": {
      "text/plain": [
       "age          0\n",
       "sex          0\n",
       "cp          23\n",
       "trestbps     9\n",
       "chol         5\n",
       "fbs         45\n",
       "restecg      0\n",
       "thalach      1\n",
       "exang        0\n",
       "oldpeak      5\n",
       "slope        0\n",
       "ca          20\n",
       "thal         0\n",
       "num          0\n",
       "dtype: int64"
      ]
     },
     "execution_count": 32,
     "metadata": {},
     "output_type": "execute_result"
    }
   ],
   "source": [
    "((data<outliers_min) | (data>outliers_max)).sum()"
   ]
  },
  {
   "cell_type": "code",
   "execution_count": 33,
   "id": "62a47612",
   "metadata": {
    "ExecuteTime": {
     "end_time": "2023-10-10T07:30:10.053721Z",
     "start_time": "2023-10-10T07:30:10.006894Z"
    }
   },
   "outputs": [
    {
     "data": {
      "text/plain": [
       "age          0.000000\n",
       "sex          0.000000\n",
       "cp           7.590759\n",
       "trestbps     2.970297\n",
       "chol         1.650165\n",
       "fbs         14.851485\n",
       "restecg      0.000000\n",
       "thalach      0.330033\n",
       "exang        0.000000\n",
       "oldpeak      1.650165\n",
       "slope        0.000000\n",
       "ca           6.600660\n",
       "thal         0.000000\n",
       "num          0.000000\n",
       "dtype: float64"
      ]
     },
     "execution_count": 33,
     "metadata": {},
     "output_type": "execute_result"
    }
   ],
   "source": [
    "((data<outliers_min) | (data>outliers_max)).sum()/303*100"
   ]
  },
  {
   "cell_type": "code",
   "execution_count": 34,
   "id": "663569e2",
   "metadata": {
    "ExecuteTime": {
     "end_time": "2023-10-10T07:30:10.073518Z",
     "start_time": "2023-10-10T07:30:10.057004Z"
    }
   },
   "outputs": [],
   "source": [
    "#ca\n",
    "#la colonne CA comporte des données manquantes et a 6% de valeurs aberantes donc on va imputer par lA MEDIANE \n",
    "med=data.ca.median()\n",
    "data.ca=data.ca.fillna(med)\n"
   ]
  },
  {
   "cell_type": "code",
   "execution_count": 35,
   "id": "bb4b1083",
   "metadata": {
    "ExecuteTime": {
     "end_time": "2023-10-10T07:30:10.086532Z",
     "start_time": "2023-10-10T07:30:10.073518Z"
    }
   },
   "outputs": [],
   "source": [
    "#imputer les donnees manquantes de thal"
   ]
  },
  {
   "cell_type": "code",
   "execution_count": 36,
   "id": "8404b36b",
   "metadata": {
    "ExecuteTime": {
     "end_time": "2023-10-10T07:30:10.126745Z",
     "start_time": "2023-10-10T07:30:10.089849Z"
    }
   },
   "outputs": [],
   "source": [
    "#thal\n",
    "#la colonne thal comporte des données manquantes et a 0% de valeurs aberantes donc on va imputer par lA MOYENNE \n",
    "moy=data.thal.mean()\n",
    "data.thal=data.thal.fillna(moy)\n"
   ]
  },
  {
   "cell_type": "code",
   "execution_count": 37,
   "id": "7ae31144",
   "metadata": {
    "ExecuteTime": {
     "end_time": "2023-10-10T07:30:10.156792Z",
     "start_time": "2023-10-10T07:30:10.126745Z"
    }
   },
   "outputs": [
    {
     "data": {
      "text/plain": [
       "age         0\n",
       "sex         0\n",
       "cp          0\n",
       "trestbps    0\n",
       "chol        0\n",
       "fbs         0\n",
       "restecg     0\n",
       "thalach     0\n",
       "exang       0\n",
       "oldpeak     0\n",
       "slope       0\n",
       "ca          0\n",
       "thal        0\n",
       "num         0\n",
       "dtype: int64"
      ]
     },
     "execution_count": 37,
     "metadata": {},
     "output_type": "execute_result"
    }
   ],
   "source": [
    "data.isna().sum()"
   ]
  },
  {
   "cell_type": "markdown",
   "id": "4ea88295",
   "metadata": {},
   "source": [
    "## Normalisation ou standardisation"
   ]
  },
  {
   "cell_type": "code",
   "execution_count": 38,
   "id": "2abc8079",
   "metadata": {
    "ExecuteTime": {
     "end_time": "2023-10-10T07:30:10.183440Z",
     "start_time": "2023-10-10T07:30:10.159300Z"
    }
   },
   "outputs": [
    {
     "data": {
      "text/plain": [
       "age          54.438944\n",
       "sex           0.679868\n",
       "cp            3.158416\n",
       "trestbps    131.689769\n",
       "chol        246.693069\n",
       "fbs           0.148515\n",
       "restecg       0.990099\n",
       "thalach     149.607261\n",
       "exang         0.326733\n",
       "oldpeak       1.039604\n",
       "slope         1.600660\n",
       "ca            0.663366\n",
       "thal          4.734219\n",
       "num           0.937294\n",
       "dtype: float64"
      ]
     },
     "execution_count": 38,
     "metadata": {},
     "output_type": "execute_result"
    }
   ],
   "source": [
    "data.mean()"
   ]
  },
  {
   "cell_type": "code",
   "execution_count": 39,
   "id": "8469b9b0",
   "metadata": {
    "ExecuteTime": {
     "end_time": "2023-10-10T07:30:10.905122Z",
     "start_time": "2023-10-10T07:30:10.183440Z"
    }
   },
   "outputs": [
    {
     "data": {
      "text/plain": [
       "<AxesSubplot:>"
      ]
     },
     "execution_count": 39,
     "metadata": {},
     "output_type": "execute_result"
    },
    {
     "data": {
      "image/png": "[encoded data removed]",
      "text/plain": [
       "<Figure size 432x288 with 1 Axes>"
      ]
     },
     "metadata": {
      "needs_background": "light"
     },
     "output_type": "display_data"
    }
   ],
   "source": [
    "data.plot()"
   ]
  },
  {
   "cell_type": "code",
   "execution_count": null,
   "id": "dc4aea3c",
   "metadata": {
    "ExecuteTime": {
     "end_time": "2023-09-26T10:20:15.757748Z",
     "start_time": "2023-09-26T10:20:15.740690Z"
    }
   },
   "outputs": [],
   "source": []
  },
  {
   "cell_type": "code",
   "execution_count": 40,
   "id": "9c7a1077",
   "metadata": {
    "ExecuteTime": {
     "end_time": "2023-10-10T07:30:11.724431Z",
     "start_time": "2023-10-10T07:30:10.906054Z"
    }
   },
   "outputs": [
    {
     "data": {
      "text/plain": [
       "<AxesSubplot:>"
      ]
     },
     "execution_count": 40,
     "metadata": {},
     "output_type": "execute_result"
    },
    {
     "data": {
      "image/png": "[encoded data removed]",
      "text/plain": [
       "<Figure size 432x288 with 1 Axes>"
      ]
     },
     "metadata": {
      "needs_background": "light"
     },
     "output_type": "display_data"
    }
   ],
   "source": [
    "data.plot()"
   ]
  },
  {
   "cell_type": "markdown",
   "id": "cc448b6e",
   "metadata": {},
   "source": [
    "## Analyse"
   ]
  },
  {
   "cell_type": "code",
   "execution_count": 41,
   "id": "8f77ba9f",
   "metadata": {
    "ExecuteTime": {
     "end_time": "2023-10-10T07:30:11.797643Z",
     "start_time": "2023-10-10T07:30:11.734537Z"
    }
   },
   "outputs": [
    {
     "data": {
      "text/plain": [
       "thalach    -0.415040\n",
       "fbs         0.059186\n",
       "chol        0.070909\n",
       "trestbps    0.157754\n",
       "restecg     0.183696\n",
       "age         0.222853\n",
       "sex         0.224469\n",
       "slope       0.377957\n",
       "exang       0.397057\n",
       "cp          0.407075\n",
       "oldpeak     0.504092\n",
       "thal        0.508799\n",
       "ca          0.520968\n",
       "num         1.000000\n",
       "Name: num, dtype: float64"
      ]
     },
     "execution_count": 41,
     "metadata": {},
     "output_type": "execute_result"
    }
   ],
   "source": [
    "data.corr().num.sort_values()"
   ]
  },
  {
   "cell_type": "markdown",
   "id": "05642f1a",
   "metadata": {},
   "source": [
    "## Separer le dataset en donnees explicatives et à expliquer"
   ]
  },
  {
   "cell_type": "code",
   "execution_count": 42,
   "id": "cc8e3705",
   "metadata": {
    "ExecuteTime": {
     "end_time": "2023-10-10T07:30:11.821708Z",
     "start_time": "2023-10-10T07:30:11.797643Z"
    }
   },
   "outputs": [],
   "source": [
    "#Les donnees explicatives ou features"
   ]
  },
  {
   "cell_type": "code",
   "execution_count": 43,
   "id": "623b84f9",
   "metadata": {
    "ExecuteTime": {
     "end_time": "2023-10-10T07:30:11.879664Z",
     "start_time": "2023-10-10T07:30:11.822697Z"
    }
   },
   "outputs": [
    {
     "data": {
      "text/html": [
       "<div>\n",
       "<style scoped>\n",
       "    .dataframe tbody tr th:only-of-type {\n",
       "        vertical-align: middle;\n",
       "    }\n",
       "\n",
       "    .dataframe tbody tr th {\n",
       "        vertical-align: top;\n",
       "    }\n",
       "\n",
       "    .dataframe thead th {\n",
       "        text-align: right;\n",
       "    }\n",
       "</style>\n",
       "<table border=\"1\" class=\"dataframe\">\n",
       "  <thead>\n",
       "    <tr style=\"text-align: right;\">\n",
       "      <th></th>\n",
       "      <th>age</th>\n",
       "      <th>sex</th>\n",
       "      <th>cp</th>\n",
       "      <th>trestbps</th>\n",
       "      <th>chol</th>\n",
       "      <th>fbs</th>\n",
       "      <th>restecg</th>\n",
       "      <th>thalach</th>\n",
       "      <th>exang</th>\n",
       "      <th>oldpeak</th>\n",
       "      <th>slope</th>\n",
       "      <th>ca</th>\n",
       "      <th>thal</th>\n",
       "    </tr>\n",
       "  </thead>\n",
       "  <tbody>\n",
       "    <tr>\n",
       "      <th>0</th>\n",
       "      <td>63</td>\n",
       "      <td>1</td>\n",
       "      <td>1</td>\n",
       "      <td>145</td>\n",
       "      <td>233</td>\n",
       "      <td>1</td>\n",
       "      <td>2</td>\n",
       "      <td>150</td>\n",
       "      <td>0</td>\n",
       "      <td>2.3</td>\n",
       "      <td>3</td>\n",
       "      <td>0.0</td>\n",
       "      <td>6.0</td>\n",
       "    </tr>\n",
       "    <tr>\n",
       "      <th>1</th>\n",
       "      <td>67</td>\n",
       "      <td>1</td>\n",
       "      <td>4</td>\n",
       "      <td>160</td>\n",
       "      <td>286</td>\n",
       "      <td>0</td>\n",
       "      <td>2</td>\n",
       "      <td>108</td>\n",
       "      <td>1</td>\n",
       "      <td>1.5</td>\n",
       "      <td>2</td>\n",
       "      <td>3.0</td>\n",
       "      <td>3.0</td>\n",
       "    </tr>\n",
       "    <tr>\n",
       "      <th>2</th>\n",
       "      <td>67</td>\n",
       "      <td>1</td>\n",
       "      <td>4</td>\n",
       "      <td>120</td>\n",
       "      <td>229</td>\n",
       "      <td>0</td>\n",
       "      <td>2</td>\n",
       "      <td>129</td>\n",
       "      <td>1</td>\n",
       "      <td>2.6</td>\n",
       "      <td>2</td>\n",
       "      <td>2.0</td>\n",
       "      <td>7.0</td>\n",
       "    </tr>\n",
       "    <tr>\n",
       "      <th>3</th>\n",
       "      <td>37</td>\n",
       "      <td>1</td>\n",
       "      <td>3</td>\n",
       "      <td>130</td>\n",
       "      <td>250</td>\n",
       "      <td>0</td>\n",
       "      <td>0</td>\n",
       "      <td>187</td>\n",
       "      <td>0</td>\n",
       "      <td>3.5</td>\n",
       "      <td>3</td>\n",
       "      <td>0.0</td>\n",
       "      <td>3.0</td>\n",
       "    </tr>\n",
       "    <tr>\n",
       "      <th>4</th>\n",
       "      <td>41</td>\n",
       "      <td>0</td>\n",
       "      <td>2</td>\n",
       "      <td>130</td>\n",
       "      <td>204</td>\n",
       "      <td>0</td>\n",
       "      <td>2</td>\n",
       "      <td>172</td>\n",
       "      <td>0</td>\n",
       "      <td>1.4</td>\n",
       "      <td>1</td>\n",
       "      <td>0.0</td>\n",
       "      <td>3.0</td>\n",
       "    </tr>\n",
       "  </tbody>\n",
       "</table>\n",
       "</div>"
      ],
      "text/plain": [
       "   age  sex  cp  trestbps  chol  fbs  restecg  thalach  exang  oldpeak  slope  \\\n",
       "0   63    1   1       145   233    1        2      150      0      2.3      3   \n",
       "1   67    1   4       160   286    0        2      108      1      1.5      2   \n",
       "2   67    1   4       120   229    0        2      129      1      2.6      2   \n",
       "3   37    1   3       130   250    0        0      187      0      3.5      3   \n",
       "4   41    0   2       130   204    0        2      172      0      1.4      1   \n",
       "\n",
       "    ca  thal  \n",
       "0  0.0   6.0  \n",
       "1  3.0   3.0  \n",
       "2  2.0   7.0  \n",
       "3  0.0   3.0  \n",
       "4  0.0   3.0  "
      ]
     },
     "execution_count": 43,
     "metadata": {},
     "output_type": "execute_result"
    }
   ],
   "source": [
    "X=data.drop(columns=[\"num\"])\n",
    "X.head()"
   ]
  },
  {
   "cell_type": "code",
   "execution_count": 44,
   "id": "bac1229f",
   "metadata": {
    "ExecuteTime": {
     "end_time": "2023-10-10T07:30:11.901807Z",
     "start_time": "2023-10-10T07:30:11.879664Z"
    }
   },
   "outputs": [],
   "source": [
    "#la variable à predire ou label"
   ]
  },
  {
   "cell_type": "code",
   "execution_count": 45,
   "id": "7cf60af8",
   "metadata": {
    "ExecuteTime": {
     "end_time": "2023-10-10T07:30:11.930887Z",
     "start_time": "2023-10-10T07:30:11.906413Z"
    }
   },
   "outputs": [
    {
     "data": {
      "text/plain": [
       "0      0\n",
       "1      2\n",
       "2      1\n",
       "3      0\n",
       "4      0\n",
       "      ..\n",
       "298    1\n",
       "299    2\n",
       "300    3\n",
       "301    1\n",
       "302    0\n",
       "Name: num, Length: 303, dtype: int64"
      ]
     },
     "execution_count": 45,
     "metadata": {},
     "output_type": "execute_result"
    }
   ],
   "source": [
    "y=data.num\n",
    "y"
   ]
  },
  {
   "cell_type": "markdown",
   "id": "ff242776",
   "metadata": {},
   "source": [
    "## Normalisation de X"
   ]
  },
  {
   "cell_type": "code",
   "execution_count": 46,
   "id": "1928a53e",
   "metadata": {
    "ExecuteTime": {
     "end_time": "2023-10-10T07:30:12.554569Z",
     "start_time": "2023-10-10T07:30:11.930887Z"
    }
   },
   "outputs": [
    {
     "data": {
      "text/plain": [
       "<AxesSubplot:>"
      ]
     },
     "execution_count": 46,
     "metadata": {},
     "output_type": "execute_result"
    },
    {
     "data": {
      "image/png": "[encoded data removed]",
      "text/plain": [
       "<Figure size 432x288 with 1 Axes>"
      ]
     },
     "metadata": {
      "needs_background": "light"
     },
     "output_type": "display_data"
    }
   ],
   "source": [
    "X.plot()"
   ]
  },
  {
   "cell_type": "code",
   "execution_count": 47,
   "id": "37f9f0b6",
   "metadata": {
    "ExecuteTime": {
     "end_time": "2023-10-10T07:30:12.635920Z",
     "start_time": "2023-10-10T07:30:12.557763Z"
    }
   },
   "outputs": [
    {
     "data": {
      "text/html": [
       "<div>\n",
       "<style scoped>\n",
       "    .dataframe tbody tr th:only-of-type {\n",
       "        vertical-align: middle;\n",
       "    }\n",
       "\n",
       "    .dataframe tbody tr th {\n",
       "        vertical-align: top;\n",
       "    }\n",
       "\n",
       "    .dataframe thead th {\n",
       "        text-align: right;\n",
       "    }\n",
       "</style>\n",
       "<table border=\"1\" class=\"dataframe\">\n",
       "  <thead>\n",
       "    <tr style=\"text-align: right;\">\n",
       "      <th></th>\n",
       "      <th>age</th>\n",
       "      <th>sex</th>\n",
       "      <th>cp</th>\n",
       "      <th>trestbps</th>\n",
       "      <th>chol</th>\n",
       "      <th>fbs</th>\n",
       "      <th>restecg</th>\n",
       "      <th>thalach</th>\n",
       "      <th>exang</th>\n",
       "      <th>oldpeak</th>\n",
       "      <th>slope</th>\n",
       "      <th>ca</th>\n",
       "      <th>thal</th>\n",
       "    </tr>\n",
       "  </thead>\n",
       "  <tbody>\n",
       "    <tr>\n",
       "      <th>0</th>\n",
       "      <td>0.947160</td>\n",
       "      <td>0.685069</td>\n",
       "      <td>-2.248056</td>\n",
       "      <td>0.756274</td>\n",
       "      <td>-0.264463</td>\n",
       "      <td>2.390484</td>\n",
       "      <td>1.015005</td>\n",
       "      <td>0.017169</td>\n",
       "      <td>-0.69548</td>\n",
       "      <td>1.085542</td>\n",
       "      <td>2.270822</td>\n",
       "      <td>-0.709957</td>\n",
       "      <td>0.654735</td>\n",
       "    </tr>\n",
       "    <tr>\n",
       "      <th>1</th>\n",
       "      <td>1.389703</td>\n",
       "      <td>0.685069</td>\n",
       "      <td>0.876535</td>\n",
       "      <td>1.608559</td>\n",
       "      <td>0.759159</td>\n",
       "      <td>-0.416945</td>\n",
       "      <td>1.015005</td>\n",
       "      <td>-1.818896</td>\n",
       "      <td>1.43311</td>\n",
       "      <td>0.396526</td>\n",
       "      <td>0.648041</td>\n",
       "      <td>2.500744</td>\n",
       "      <td>-0.897038</td>\n",
       "    </tr>\n",
       "    <tr>\n",
       "      <th>2</th>\n",
       "      <td>1.389703</td>\n",
       "      <td>0.685069</td>\n",
       "      <td>0.876535</td>\n",
       "      <td>-0.664201</td>\n",
       "      <td>-0.341717</td>\n",
       "      <td>-0.416945</td>\n",
       "      <td>1.015005</td>\n",
       "      <td>-0.900864</td>\n",
       "      <td>1.43311</td>\n",
       "      <td>1.343924</td>\n",
       "      <td>0.648041</td>\n",
       "      <td>1.430510</td>\n",
       "      <td>1.171993</td>\n",
       "    </tr>\n",
       "    <tr>\n",
       "      <th>3</th>\n",
       "      <td>-1.929372</td>\n",
       "      <td>0.685069</td>\n",
       "      <td>-0.164995</td>\n",
       "      <td>-0.096011</td>\n",
       "      <td>0.063869</td>\n",
       "      <td>-0.416945</td>\n",
       "      <td>-0.995103</td>\n",
       "      <td>1.634655</td>\n",
       "      <td>-0.69548</td>\n",
       "      <td>2.119067</td>\n",
       "      <td>2.270822</td>\n",
       "      <td>-0.709957</td>\n",
       "      <td>-0.897038</td>\n",
       "    </tr>\n",
       "    <tr>\n",
       "      <th>4</th>\n",
       "      <td>-1.486829</td>\n",
       "      <td>-1.454889</td>\n",
       "      <td>-1.206525</td>\n",
       "      <td>-0.096011</td>\n",
       "      <td>-0.824558</td>\n",
       "      <td>-0.416945</td>\n",
       "      <td>1.015005</td>\n",
       "      <td>0.978917</td>\n",
       "      <td>-0.69548</td>\n",
       "      <td>0.310399</td>\n",
       "      <td>-0.974740</td>\n",
       "      <td>-0.709957</td>\n",
       "      <td>-0.897038</td>\n",
       "    </tr>\n",
       "  </tbody>\n",
       "</table>\n",
       "</div>"
      ],
      "text/plain": [
       "        age       sex        cp  trestbps      chol       fbs   restecg  \\\n",
       "0  0.947160  0.685069 -2.248056  0.756274 -0.264463  2.390484  1.015005   \n",
       "1  1.389703  0.685069  0.876535  1.608559  0.759159 -0.416945  1.015005   \n",
       "2  1.389703  0.685069  0.876535 -0.664201 -0.341717 -0.416945  1.015005   \n",
       "3 -1.929372  0.685069 -0.164995 -0.096011  0.063869 -0.416945 -0.995103   \n",
       "4 -1.486829 -1.454889 -1.206525 -0.096011 -0.824558 -0.416945  1.015005   \n",
       "\n",
       "    thalach    exang   oldpeak     slope        ca      thal  \n",
       "0  0.017169 -0.69548  1.085542  2.270822 -0.709957  0.654735  \n",
       "1 -1.818896  1.43311  0.396526  0.648041  2.500744 -0.897038  \n",
       "2 -0.900864  1.43311  1.343924  0.648041  1.430510  1.171993  \n",
       "3  1.634655 -0.69548  2.119067  2.270822 -0.709957 -0.897038  \n",
       "4  0.978917 -0.69548  0.310399 -0.974740 -0.709957 -0.897038  "
      ]
     },
     "execution_count": 47,
     "metadata": {},
     "output_type": "execute_result"
    }
   ],
   "source": [
    "y=data.num\n",
    "\n",
    "X=(X-X.mean())/X.std()\n",
    "X.head()"
   ]
  },
  {
   "cell_type": "code",
   "execution_count": 48,
   "id": "51749f49",
   "metadata": {
    "ExecuteTime": {
     "end_time": "2023-10-10T07:30:13.242230Z",
     "start_time": "2023-10-10T07:30:12.637605Z"
    }
   },
   "outputs": [
    {
     "data": {
      "text/plain": [
       "<AxesSubplot:>"
      ]
     },
     "execution_count": 48,
     "metadata": {},
     "output_type": "execute_result"
    },
    {
     "data": {
      "image/png": "[encoded data removed]",
      "text/plain": [
       "<Figure size 432x288 with 1 Axes>"
      ]
     },
     "metadata": {
      "needs_background": "light"
     },
     "output_type": "display_data"
    }
   ],
   "source": [
    "X.plot()"
   ]
  },
  {
   "cell_type": "markdown",
   "id": "d1c9b139",
   "metadata": {},
   "source": [
    "## Separer le dataset en train et en test"
   ]
  },
  {
   "cell_type": "code",
   "execution_count": 49,
   "id": "e399fb04",
   "metadata": {
    "ExecuteTime": {
     "end_time": "2023-10-10T07:30:13.518292Z",
     "start_time": "2023-10-10T07:30:13.242230Z"
    }
   },
   "outputs": [],
   "source": [
    "from sklearn.model_selection import train_test_split"
   ]
  },
  {
   "cell_type": "code",
   "execution_count": 50,
   "id": "00569120",
   "metadata": {
    "ExecuteTime": {
     "end_time": "2023-10-10T07:30:13.534055Z",
     "start_time": "2023-10-10T07:30:13.520497Z"
    }
   },
   "outputs": [],
   "source": [
    "X_train,X_test,y_train,y_test=train_test_split(X,y, test_size=0.1) #on entraine le modele avec 90% des donnees et les 10% restantes seront utilisées pour le test"
   ]
  },
  {
   "cell_type": "code",
   "execution_count": 51,
   "id": "4f950f83",
   "metadata": {
    "ExecuteTime": {
     "end_time": "2023-10-10T07:30:13.553602Z",
     "start_time": "2023-10-10T07:30:13.536909Z"
    }
   },
   "outputs": [
    {
     "data": {
      "text/plain": [
       "(272, 13)"
      ]
     },
     "execution_count": 51,
     "metadata": {},
     "output_type": "execute_result"
    }
   ],
   "source": [
    "X_train.shape"
   ]
  },
  {
   "cell_type": "code",
   "execution_count": 52,
   "id": "06a273af",
   "metadata": {
    "ExecuteTime": {
     "end_time": "2023-10-10T07:30:13.582544Z",
     "start_time": "2023-10-10T07:30:13.555040Z"
    }
   },
   "outputs": [
    {
     "data": {
      "text/plain": [
       "(31, 13)"
      ]
     },
     "execution_count": 52,
     "metadata": {},
     "output_type": "execute_result"
    }
   ],
   "source": [
    "X_test.shape"
   ]
  },
  {
   "cell_type": "code",
   "execution_count": 53,
   "id": "9b7f7df4",
   "metadata": {
    "ExecuteTime": {
     "end_time": "2023-10-10T07:30:13.965092Z",
     "start_time": "2023-10-10T07:30:13.586724Z"
    }
   },
   "outputs": [
    {
     "data": {
      "text/html": [
       "<style>#sk-container-id-1 {color: black;background-color: white;}#sk-container-id-1 pre{padding: 0;}#sk-container-id-1 div.sk-toggleable {background-color: white;}#sk-container-id-1 label.sk-toggleable__label {cursor: pointer;display: block;width: 100%;margin-bottom: 0;padding: 0.3em;box-sizing: border-box;text-align: center;}#sk-container-id-1 label.sk-toggleable__label-arrow:before {content: \"▸\";float: left;margin-right: 0.25em;color: #696969;}#sk-container-id-1 label.sk-toggleable__label-arrow:hover:before {color: black;}#sk-container-id-1 div.sk-estimator:hover label.sk-toggleable__label-arrow:before {color: black;}#sk-container-id-1 div.sk-toggleable__content {max-height: 0;max-width: 0;overflow: hidden;text-align: left;background-color: #f0f8ff;}#sk-container-id-1 div.sk-toggleable__content pre {margin: 0.2em;color: black;border-radius: 0.25em;background-color: #f0f8ff;}#sk-container-id-1 input.sk-toggleable__control:checked~div.sk-toggleable__content {max-height: 200px;max-width: 100%;overflow: auto;}#sk-container-id-1 input.sk-toggleable__control:checked~label.sk-toggleable__label-arrow:before {content: \"▾\";}#sk-container-id-1 div.sk-estimator input.sk-toggleable__control:checked~label.sk-toggleable__label {background-color: #d4ebff;}#sk-container-id-1 div.sk-label input.sk-toggleable__control:checked~label.sk-toggleable__label {background-color: #d4ebff;}#sk-container-id-1 input.sk-hidden--visually {border: 0;clip: rect(1px 1px 1px 1px);clip: rect(1px, 1px, 1px, 1px);height: 1px;margin: -1px;overflow: hidden;padding: 0;position: absolute;width: 1px;}#sk-container-id-1 div.sk-estimator {font-family: monospace;background-color: #f0f8ff;border: 1px dotted black;border-radius: 0.25em;box-sizing: border-box;margin-bottom: 0.5em;}#sk-container-id-1 div.sk-estimator:hover {background-color: #d4ebff;}#sk-container-id-1 div.sk-parallel-item::after {content: \"\";width: 100%;border-bottom: 1px solid gray;flex-grow: 1;}#sk-container-id-1 div.sk-label:hover label.sk-toggleable__label {background-color: #d4ebff;}#sk-container-id-1 div.sk-serial::before {content: \"\";position: absolute;border-left: 1px solid gray;box-sizing: border-box;top: 0;bottom: 0;left: 50%;z-index: 0;}#sk-container-id-1 div.sk-serial {display: flex;flex-direction: column;align-items: center;background-color: white;padding-right: 0.2em;padding-left: 0.2em;position: relative;}#sk-container-id-1 div.sk-item {position: relative;z-index: 1;}#sk-container-id-1 div.sk-parallel {display: flex;align-items: stretch;justify-content: center;background-color: white;position: relative;}#sk-container-id-1 div.sk-item::before, #sk-container-id-1 div.sk-parallel-item::before {content: \"\";position: absolute;border-left: 1px solid gray;box-sizing: border-box;top: 0;bottom: 0;left: 50%;z-index: -1;}#sk-container-id-1 div.sk-parallel-item {display: flex;flex-direction: column;z-index: 1;position: relative;background-color: white;}#sk-container-id-1 div.sk-parallel-item:first-child::after {align-self: flex-end;width: 50%;}#sk-container-id-1 div.sk-parallel-item:last-child::after {align-self: flex-start;width: 50%;}#sk-container-id-1 div.sk-parallel-item:only-child::after {width: 0;}#sk-container-id-1 div.sk-dashed-wrapped {border: 1px dashed gray;margin: 0 0.4em 0.5em 0.4em;box-sizing: border-box;padding-bottom: 0.4em;background-color: white;}#sk-container-id-1 div.sk-label label {font-family: monospace;font-weight: bold;display: inline-block;line-height: 1.2em;}#sk-container-id-1 div.sk-label-container {text-align: center;}#sk-container-id-1 div.sk-container {/* jupyter's `normalize.less` sets `[hidden] { display: none; }` but bootstrap.min.css set `[hidden] { display: none !important; }` so we also need the `!important` here to be able to override the default hidden behavior on the sphinx rendered scikit-learn.org. See: https://github.com/scikit-learn/scikit-learn/issues/21755 */display: inline-block !important;position: relative;}#sk-container-id-1 div.sk-text-repr-fallback {display: none;}</style><div id=\"sk-container-id-1\" class=\"sk-top-container\"><div class=\"sk-text-repr-fallback\"><pre>KNeighborsClassifier()</pre><b>In a Jupyter environment, please rerun this cell to show the HTML representation or trust the notebook. <br />On GitHub, the HTML representation is unable to render, please try loading this page with nbviewer.org.</b></div><div class=\"sk-container\" hidden><div class=\"sk-item\"><div class=\"sk-estimator sk-toggleable\"><input class=\"sk-toggleable__control sk-hidden--visually\" id=\"sk-estimator-id-1\" type=\"checkbox\" checked><label for=\"sk-estimator-id-1\" class=\"sk-toggleable__label sk-toggleable__label-arrow\">KNeighborsClassifier</label><div class=\"sk-toggleable__content\"><pre>KNeighborsClassifier()</pre></div></div></div></div></div>"
      ],
      "text/plain": [
       "KNeighborsClassifier()"
      ]
     },
     "execution_count": 53,
     "metadata": {},
     "output_type": "execute_result"
    }
   ],
   "source": [
    "from sklearn.neighbors import KNeighborsClassifier\n",
    "neigh = KNeighborsClassifier(n_neighbors=5)\n",
    "neigh.fit(X_train, y_train) #on entraine le modele\n"
   ]
  },
  {
   "cell_type": "code",
   "execution_count": null,
   "id": "6790a8d0",
   "metadata": {
    "ExecuteTime": {
     "end_time": "2023-10-03T07:45:50.704655Z",
     "start_time": "2023-10-03T07:45:50.487796Z"
    }
   },
   "outputs": [],
   "source": []
  },
  {
   "cell_type": "code",
   "execution_count": 54,
   "id": "623bdd1f",
   "metadata": {
    "ExecuteTime": {
     "end_time": "2023-10-10T07:30:14.102019Z",
     "start_time": "2023-10-10T07:30:13.975825Z"
    }
   },
   "outputs": [
    {
     "data": {
      "text/plain": [
       "0.7095588235294118"
      ]
     },
     "execution_count": 54,
     "metadata": {},
     "output_type": "execute_result"
    }
   ],
   "source": [
    "neigh.score(X_train, y_train) #on evalue le modele en entrainement (63%)"
   ]
  },
  {
   "cell_type": "code",
   "execution_count": 55,
   "id": "3b7b1447",
   "metadata": {
    "ExecuteTime": {
     "end_time": "2023-10-10T07:30:14.131869Z",
     "start_time": "2023-10-10T07:30:14.103452Z"
    }
   },
   "outputs": [
    {
     "data": {
      "text/plain": [
       "0.6129032258064516"
      ]
     },
     "execution_count": 55,
     "metadata": {},
     "output_type": "execute_result"
    }
   ],
   "source": [
    "neigh.score(X_test, y_test) #on evalue le modele en entrainement (61%)"
   ]
  },
  {
   "cell_type": "markdown",
   "id": "06fcd988",
   "metadata": {},
   "source": [
    "## Ameliorons le modele"
   ]
  },
  {
   "cell_type": "code",
   "execution_count": 56,
   "id": "1205765e",
   "metadata": {
    "ExecuteTime": {
     "end_time": "2023-10-10T07:30:14.533573Z",
     "start_time": "2023-10-10T07:30:14.154174Z"
    }
   },
   "outputs": [
    {
     "name": "stdout",
     "output_type": "stream",
     "text": [
      "1 1.0\n",
      "2 0.7463235294117647\n",
      "3 0.6985294117647058\n",
      "4 0.7205882352941176\n",
      "5 0.7095588235294118\n",
      "6 0.6727941176470589\n",
      "7 0.6764705882352942\n",
      "8 0.6544117647058824\n",
      "9 0.6470588235294118\n",
      "10 0.6433823529411765\n"
     ]
    }
   ],
   "source": [
    "from sklearn.neighbors import KNeighborsClassifier\n",
    "for k in range(1,11):\n",
    "    neigh = KNeighborsClassifier(n_neighbors=k)\n",
    "    neigh.fit(X_train, y_train) #on entraine le modele\n",
    "    print(k, neigh.score(X_train, y_train)) #on entraine le modele"
   ]
  },
  {
   "cell_type": "code",
   "execution_count": 57,
   "id": "7fea5c5d",
   "metadata": {
    "ExecuteTime": {
     "end_time": "2023-10-10T07:30:14.585129Z",
     "start_time": "2023-10-10T07:30:14.536263Z"
    }
   },
   "outputs": [
    {
     "data": {
      "text/html": [
       "<div>\n",
       "<style scoped>\n",
       "    .dataframe tbody tr th:only-of-type {\n",
       "        vertical-align: middle;\n",
       "    }\n",
       "\n",
       "    .dataframe tbody tr th {\n",
       "        vertical-align: top;\n",
       "    }\n",
       "\n",
       "    .dataframe thead th {\n",
       "        text-align: right;\n",
       "    }\n",
       "</style>\n",
       "<table border=\"1\" class=\"dataframe\">\n",
       "  <thead>\n",
       "    <tr style=\"text-align: right;\">\n",
       "      <th></th>\n",
       "      <th>age</th>\n",
       "      <th>sex</th>\n",
       "      <th>cp</th>\n",
       "      <th>trestbps</th>\n",
       "      <th>chol</th>\n",
       "      <th>fbs</th>\n",
       "      <th>restecg</th>\n",
       "      <th>thalach</th>\n",
       "      <th>exang</th>\n",
       "      <th>oldpeak</th>\n",
       "      <th>slope</th>\n",
       "      <th>ca</th>\n",
       "      <th>thal</th>\n",
       "    </tr>\n",
       "  </thead>\n",
       "  <tbody>\n",
       "    <tr>\n",
       "      <th>0</th>\n",
       "      <td>0.947160</td>\n",
       "      <td>0.685069</td>\n",
       "      <td>-2.248056</td>\n",
       "      <td>0.756274</td>\n",
       "      <td>-0.264463</td>\n",
       "      <td>2.390484</td>\n",
       "      <td>1.015005</td>\n",
       "      <td>0.017169</td>\n",
       "      <td>-0.69548</td>\n",
       "      <td>1.085542</td>\n",
       "      <td>2.270822</td>\n",
       "      <td>-0.709957</td>\n",
       "      <td>0.654735</td>\n",
       "    </tr>\n",
       "    <tr>\n",
       "      <th>1</th>\n",
       "      <td>1.389703</td>\n",
       "      <td>0.685069</td>\n",
       "      <td>0.876535</td>\n",
       "      <td>1.608559</td>\n",
       "      <td>0.759159</td>\n",
       "      <td>-0.416945</td>\n",
       "      <td>1.015005</td>\n",
       "      <td>-1.818896</td>\n",
       "      <td>1.43311</td>\n",
       "      <td>0.396526</td>\n",
       "      <td>0.648041</td>\n",
       "      <td>2.500744</td>\n",
       "      <td>-0.897038</td>\n",
       "    </tr>\n",
       "    <tr>\n",
       "      <th>2</th>\n",
       "      <td>1.389703</td>\n",
       "      <td>0.685069</td>\n",
       "      <td>0.876535</td>\n",
       "      <td>-0.664201</td>\n",
       "      <td>-0.341717</td>\n",
       "      <td>-0.416945</td>\n",
       "      <td>1.015005</td>\n",
       "      <td>-0.900864</td>\n",
       "      <td>1.43311</td>\n",
       "      <td>1.343924</td>\n",
       "      <td>0.648041</td>\n",
       "      <td>1.430510</td>\n",
       "      <td>1.171993</td>\n",
       "    </tr>\n",
       "    <tr>\n",
       "      <th>3</th>\n",
       "      <td>-1.929372</td>\n",
       "      <td>0.685069</td>\n",
       "      <td>-0.164995</td>\n",
       "      <td>-0.096011</td>\n",
       "      <td>0.063869</td>\n",
       "      <td>-0.416945</td>\n",
       "      <td>-0.995103</td>\n",
       "      <td>1.634655</td>\n",
       "      <td>-0.69548</td>\n",
       "      <td>2.119067</td>\n",
       "      <td>2.270822</td>\n",
       "      <td>-0.709957</td>\n",
       "      <td>-0.897038</td>\n",
       "    </tr>\n",
       "    <tr>\n",
       "      <th>4</th>\n",
       "      <td>-1.486829</td>\n",
       "      <td>-1.454889</td>\n",
       "      <td>-1.206525</td>\n",
       "      <td>-0.096011</td>\n",
       "      <td>-0.824558</td>\n",
       "      <td>-0.416945</td>\n",
       "      <td>1.015005</td>\n",
       "      <td>0.978917</td>\n",
       "      <td>-0.69548</td>\n",
       "      <td>0.310399</td>\n",
       "      <td>-0.974740</td>\n",
       "      <td>-0.709957</td>\n",
       "      <td>-0.897038</td>\n",
       "    </tr>\n",
       "  </tbody>\n",
       "</table>\n",
       "</div>"
      ],
      "text/plain": [
       "        age       sex        cp  trestbps      chol       fbs   restecg  \\\n",
       "0  0.947160  0.685069 -2.248056  0.756274 -0.264463  2.390484  1.015005   \n",
       "1  1.389703  0.685069  0.876535  1.608559  0.759159 -0.416945  1.015005   \n",
       "2  1.389703  0.685069  0.876535 -0.664201 -0.341717 -0.416945  1.015005   \n",
       "3 -1.929372  0.685069 -0.164995 -0.096011  0.063869 -0.416945 -0.995103   \n",
       "4 -1.486829 -1.454889 -1.206525 -0.096011 -0.824558 -0.416945  1.015005   \n",
       "\n",
       "    thalach    exang   oldpeak     slope        ca      thal  \n",
       "0  0.017169 -0.69548  1.085542  2.270822 -0.709957  0.654735  \n",
       "1 -1.818896  1.43311  0.396526  0.648041  2.500744 -0.897038  \n",
       "2 -0.900864  1.43311  1.343924  0.648041  1.430510  1.171993  \n",
       "3  1.634655 -0.69548  2.119067  2.270822 -0.709957 -0.897038  \n",
       "4  0.978917 -0.69548  0.310399 -0.974740 -0.709957 -0.897038  "
      ]
     },
     "execution_count": 57,
     "metadata": {},
     "output_type": "execute_result"
    }
   ],
   "source": [
    "X.head()"
   ]
  },
  {
   "cell_type": "code",
   "execution_count": 58,
   "id": "f20a8b21",
   "metadata": {
    "ExecuteTime": {
     "end_time": "2023-10-10T07:30:14.885722Z",
     "start_time": "2023-10-10T07:30:14.586000Z"
    }
   },
   "outputs": [
    {
     "data": {
      "text/plain": [
       "<AxesSubplot:ylabel='sex'>"
      ]
     },
     "execution_count": 58,
     "metadata": {},
     "output_type": "execute_result"
    },
    {
     "data": {
      "image/png": "[encoded data removed]",
      "text/plain": [
       "<Figure size 432x288 with 1 Axes>"
      ]
     },
     "metadata": {},
     "output_type": "display_data"
    }
   ],
   "source": [
    "data.sex.value_counts(normalize=True).plot(kind=\"pie\",autopct='%.0f')"
   ]
  },
  {
   "cell_type": "code",
   "execution_count": 59,
   "id": "77af8cea",
   "metadata": {
    "ExecuteTime": {
     "end_time": "2023-10-10T07:30:15.670266Z",
     "start_time": "2023-10-10T07:30:14.890229Z"
    }
   },
   "outputs": [
    {
     "data": {
      "text/plain": [
       "<AxesSubplot:ylabel='num'>"
      ]
     },
     "execution_count": 59,
     "metadata": {},
     "output_type": "execute_result"
    },
    {
     "data": {
      "image/png": "[encoded data removed]",
      "text/plain": [
       "<Figure size 432x288 with 1 Axes>"
      ]
     },
     "metadata": {},
     "output_type": "display_data"
    }
   ],
   "source": [
    "y.value_counts(normalize=True).plot(kind=\"pie\",autopct='%.0f')"
   ]
  },
  {
   "cell_type": "code",
   "execution_count": 60,
   "id": "977932b6",
   "metadata": {
    "ExecuteTime": {
     "end_time": "2023-10-10T07:30:15.701661Z",
     "start_time": "2023-10-10T07:30:15.674932Z"
    }
   },
   "outputs": [],
   "source": [
    "#ici les donnees y sont desequilibrées donc il faudra juste faire un modele pour predire si on est malade ou saine."
   ]
  },
  {
   "cell_type": "code",
   "execution_count": 61,
   "id": "9fc1ffa0",
   "metadata": {
    "ExecuteTime": {
     "end_time": "2023-10-10T07:30:15.800559Z",
     "start_time": "2023-10-10T07:30:15.709216Z"
    }
   },
   "outputs": [
    {
     "data": {
      "text/plain": [
       "0      0\n",
       "1      2\n",
       "2      1\n",
       "3      0\n",
       "4      0\n",
       "      ..\n",
       "298    1\n",
       "299    2\n",
       "300    3\n",
       "301    1\n",
       "302    0\n",
       "Name: num, Length: 303, dtype: int64"
      ]
     },
     "execution_count": 61,
     "metadata": {},
     "output_type": "execute_result"
    }
   ],
   "source": [
    "y"
   ]
  },
  {
   "cell_type": "code",
   "execution_count": 62,
   "id": "a7708690",
   "metadata": {
    "ExecuteTime": {
     "end_time": "2023-10-10T07:30:15.931703Z",
     "start_time": "2023-10-10T07:30:15.801490Z"
    }
   },
   "outputs": [],
   "source": [
    "y=y.apply(lambda x: 1 if x>=1 else 0)"
   ]
  },
  {
   "cell_type": "code",
   "execution_count": 63,
   "id": "ab9fa090",
   "metadata": {
    "ExecuteTime": {
     "end_time": "2023-10-10T07:30:16.215926Z",
     "start_time": "2023-10-10T07:30:15.934535Z"
    }
   },
   "outputs": [
    {
     "data": {
      "text/plain": [
       "<AxesSubplot:ylabel='num'>"
      ]
     },
     "execution_count": 63,
     "metadata": {},
     "output_type": "execute_result"
    },
    {
     "data": {
      "image/png": "[encoded data removed]",
      "text/plain": [
       "<Figure size 432x288 with 1 Axes>"
      ]
     },
     "metadata": {},
     "output_type": "display_data"
    }
   ],
   "source": [
    "y.value_counts(normalize=True).plot(kind=\"pie\",autopct='%.0f')"
   ]
  },
  {
   "cell_type": "code",
   "execution_count": 64,
   "id": "0978f43f",
   "metadata": {
    "ExecuteTime": {
     "end_time": "2023-10-10T07:30:16.234402Z",
     "start_time": "2023-10-10T07:30:16.218016Z"
    }
   },
   "outputs": [],
   "source": [
    "X_train,X_test,y_train,y_test=train_test_split(X,y, test_size=0.1) #on entraine le modele avec 90% des donnees et les 10% restantes seront utilisées pour le test"
   ]
  },
  {
   "cell_type": "code",
   "execution_count": 65,
   "id": "66a8ecb1",
   "metadata": {
    "ExecuteTime": {
     "end_time": "2023-10-10T07:30:16.300911Z",
     "start_time": "2023-10-10T07:30:16.234402Z"
    }
   },
   "outputs": [
    {
     "name": "stdout",
     "output_type": "stream",
     "text": [
      "0.8933823529411765\n",
      "0.8387096774193549\n"
     ]
    }
   ],
   "source": [
    "from sklearn.neighbors import KNeighborsClassifier\n",
    "neigh = KNeighborsClassifier(n_neighbors=5)\n",
    "neigh.fit(X_train, y_train) #on entraine le modele\n",
    "print(neigh.score(X_train, y_train))\n",
    "print(neigh.score(X_test, y_test))"
   ]
  },
  {
   "cell_type": "raw",
   "id": "f01d4889",
   "metadata": {},
   "source": [
    "Pour déterminer le MEILLEUR modèle de classification , on peut chercher de méthodes ou de bibliothèques de classification couramment utilisées(par exemple, \"LogisticRegression\", Bayes, randomforest, \"DecisionTreeClassifier\", gradient boosting etc.)."
   ]
  },
  {
   "cell_type": "code",
   "execution_count": 79,
   "id": "643c5573",
   "metadata": {
    "ExecuteTime": {
     "end_time": "2023-10-10T07:51:19.199423Z",
     "start_time": "2023-10-10T07:51:19.158009Z"
    }
   },
   "outputs": [
    {
     "name": "stdout",
     "output_type": "stream",
     "text": [
      "0.9117647058823529\n",
      "0.8709677419354839\n"
     ]
    }
   ],
   "source": [
    "\n",
    "svm = sklearn.svm.SVC() \n",
    "svm.fit(X_train, y_train) #on entraine le modele\n",
    "print(svm.score(X_train, y_train))\n",
    "print(svm.score(X_test, y_test))"
   ]
  },
  {
   "cell_type": "code",
   "execution_count": 67,
   "id": "4b81065e",
   "metadata": {
    "ExecuteTime": {
     "end_time": "2023-10-10T07:30:16.409576Z",
     "start_time": "2023-10-10T07:30:16.384783Z"
    }
   },
   "outputs": [],
   "source": [
    "#Je continue le cours avec ce modele svm qui est precis à plus de 75%"
   ]
  },
  {
   "cell_type": "markdown",
   "id": "40126f98",
   "metadata": {},
   "source": [
    "## Prediction"
   ]
  },
  {
   "cell_type": "code",
   "execution_count": 68,
   "id": "0c17c870",
   "metadata": {
    "ExecuteTime": {
     "end_time": "2023-10-10T07:30:16.434173Z",
     "start_time": "2023-10-10T07:30:16.409576Z"
    }
   },
   "outputs": [
    {
     "data": {
      "text/plain": [
       "array([1, 0, 0, 1, 1, 0, 0, 1, 1, 1, 0, 1, 1, 0, 0, 1, 0, 1, 0, 1, 0, 0,\n",
       "       1, 0, 0, 1, 0, 0, 0, 1, 0], dtype=int64)"
      ]
     },
     "execution_count": 68,
     "metadata": {},
     "output_type": "execute_result"
    }
   ],
   "source": [
    "y_pred=svm.predict(X_test)\n",
    "y_pred"
   ]
  },
  {
   "cell_type": "code",
   "execution_count": 69,
   "id": "55bc8bc0",
   "metadata": {
    "ExecuteTime": {
     "end_time": "2023-10-10T07:30:16.475155Z",
     "start_time": "2023-10-10T07:30:16.434173Z"
    }
   },
   "outputs": [
    {
     "data": {
      "text/html": [
       "<div>\n",
       "<style scoped>\n",
       "    .dataframe tbody tr th:only-of-type {\n",
       "        vertical-align: middle;\n",
       "    }\n",
       "\n",
       "    .dataframe tbody tr th {\n",
       "        vertical-align: top;\n",
       "    }\n",
       "\n",
       "    .dataframe thead th {\n",
       "        text-align: right;\n",
       "    }\n",
       "</style>\n",
       "<table border=\"1\" class=\"dataframe\">\n",
       "  <thead>\n",
       "    <tr style=\"text-align: right;\">\n",
       "      <th></th>\n",
       "    </tr>\n",
       "  </thead>\n",
       "  <tbody>\n",
       "  </tbody>\n",
       "</table>\n",
       "</div>"
      ],
      "text/plain": [
       "Empty DataFrame\n",
       "Columns: []\n",
       "Index: []"
      ]
     },
     "execution_count": 69,
     "metadata": {},
     "output_type": "execute_result"
    }
   ],
   "source": [
    "resultats=pandas.DataFrame()\n",
    "resultats"
   ]
  },
  {
   "cell_type": "code",
   "execution_count": 70,
   "id": "3d7fdec4",
   "metadata": {
    "ExecuteTime": {
     "end_time": "2023-10-10T07:30:16.596822Z",
     "start_time": "2023-10-10T07:30:16.500894Z"
    }
   },
   "outputs": [
    {
     "data": {
      "text/html": [
       "<div>\n",
       "<style scoped>\n",
       "    .dataframe tbody tr th:only-of-type {\n",
       "        vertical-align: middle;\n",
       "    }\n",
       "\n",
       "    .dataframe tbody tr th {\n",
       "        vertical-align: top;\n",
       "    }\n",
       "\n",
       "    .dataframe thead th {\n",
       "        text-align: right;\n",
       "    }\n",
       "</style>\n",
       "<table border=\"1\" class=\"dataframe\">\n",
       "  <thead>\n",
       "    <tr style=\"text-align: right;\">\n",
       "      <th></th>\n",
       "      <th>reality</th>\n",
       "      <th>prediction</th>\n",
       "    </tr>\n",
       "  </thead>\n",
       "  <tbody>\n",
       "    <tr>\n",
       "      <th>248</th>\n",
       "      <td>1</td>\n",
       "      <td>1</td>\n",
       "    </tr>\n",
       "    <tr>\n",
       "      <th>151</th>\n",
       "      <td>0</td>\n",
       "      <td>0</td>\n",
       "    </tr>\n",
       "    <tr>\n",
       "      <th>147</th>\n",
       "      <td>0</td>\n",
       "      <td>0</td>\n",
       "    </tr>\n",
       "    <tr>\n",
       "      <th>107</th>\n",
       "      <td>1</td>\n",
       "      <td>1</td>\n",
       "    </tr>\n",
       "    <tr>\n",
       "      <th>108</th>\n",
       "      <td>1</td>\n",
       "      <td>1</td>\n",
       "    </tr>\n",
       "    <tr>\n",
       "      <th>261</th>\n",
       "      <td>1</td>\n",
       "      <td>0</td>\n",
       "    </tr>\n",
       "    <tr>\n",
       "      <th>35</th>\n",
       "      <td>0</td>\n",
       "      <td>0</td>\n",
       "    </tr>\n",
       "    <tr>\n",
       "      <th>299</th>\n",
       "      <td>1</td>\n",
       "      <td>1</td>\n",
       "    </tr>\n",
       "    <tr>\n",
       "      <th>1</th>\n",
       "      <td>1</td>\n",
       "      <td>1</td>\n",
       "    </tr>\n",
       "    <tr>\n",
       "      <th>177</th>\n",
       "      <td>1</td>\n",
       "      <td>1</td>\n",
       "    </tr>\n",
       "    <tr>\n",
       "      <th>52</th>\n",
       "      <td>1</td>\n",
       "      <td>0</td>\n",
       "    </tr>\n",
       "    <tr>\n",
       "      <th>170</th>\n",
       "      <td>1</td>\n",
       "      <td>1</td>\n",
       "    </tr>\n",
       "    <tr>\n",
       "      <th>64</th>\n",
       "      <td>1</td>\n",
       "      <td>1</td>\n",
       "    </tr>\n",
       "    <tr>\n",
       "      <th>84</th>\n",
       "      <td>0</td>\n",
       "      <td>0</td>\n",
       "    </tr>\n",
       "    <tr>\n",
       "      <th>82</th>\n",
       "      <td>0</td>\n",
       "      <td>0</td>\n",
       "    </tr>\n",
       "    <tr>\n",
       "      <th>71</th>\n",
       "      <td>1</td>\n",
       "      <td>1</td>\n",
       "    </tr>\n",
       "    <tr>\n",
       "      <th>246</th>\n",
       "      <td>1</td>\n",
       "      <td>0</td>\n",
       "    </tr>\n",
       "    <tr>\n",
       "      <th>206</th>\n",
       "      <td>1</td>\n",
       "      <td>1</td>\n",
       "    </tr>\n",
       "    <tr>\n",
       "      <th>135</th>\n",
       "      <td>0</td>\n",
       "      <td>0</td>\n",
       "    </tr>\n",
       "    <tr>\n",
       "      <th>79</th>\n",
       "      <td>1</td>\n",
       "      <td>1</td>\n",
       "    </tr>\n",
       "    <tr>\n",
       "      <th>302</th>\n",
       "      <td>0</td>\n",
       "      <td>0</td>\n",
       "    </tr>\n",
       "    <tr>\n",
       "      <th>86</th>\n",
       "      <td>0</td>\n",
       "      <td>0</td>\n",
       "    </tr>\n",
       "    <tr>\n",
       "      <th>23</th>\n",
       "      <td>1</td>\n",
       "      <td>1</td>\n",
       "    </tr>\n",
       "    <tr>\n",
       "      <th>281</th>\n",
       "      <td>0</td>\n",
       "      <td>0</td>\n",
       "    </tr>\n",
       "    <tr>\n",
       "      <th>163</th>\n",
       "      <td>0</td>\n",
       "      <td>0</td>\n",
       "    </tr>\n",
       "    <tr>\n",
       "      <th>119</th>\n",
       "      <td>1</td>\n",
       "      <td>1</td>\n",
       "    </tr>\n",
       "    <tr>\n",
       "      <th>32</th>\n",
       "      <td>1</td>\n",
       "      <td>0</td>\n",
       "    </tr>\n",
       "    <tr>\n",
       "      <th>279</th>\n",
       "      <td>0</td>\n",
       "      <td>0</td>\n",
       "    </tr>\n",
       "    <tr>\n",
       "      <th>273</th>\n",
       "      <td>0</td>\n",
       "      <td>0</td>\n",
       "    </tr>\n",
       "    <tr>\n",
       "      <th>180</th>\n",
       "      <td>1</td>\n",
       "      <td>1</td>\n",
       "    </tr>\n",
       "    <tr>\n",
       "      <th>27</th>\n",
       "      <td>0</td>\n",
       "      <td>0</td>\n",
       "    </tr>\n",
       "  </tbody>\n",
       "</table>\n",
       "</div>"
      ],
      "text/plain": [
       "     reality  prediction\n",
       "248        1           1\n",
       "151        0           0\n",
       "147        0           0\n",
       "107        1           1\n",
       "108        1           1\n",
       "261        1           0\n",
       "35         0           0\n",
       "299        1           1\n",
       "1          1           1\n",
       "177        1           1\n",
       "52         1           0\n",
       "170        1           1\n",
       "64         1           1\n",
       "84         0           0\n",
       "82         0           0\n",
       "71         1           1\n",
       "246        1           0\n",
       "206        1           1\n",
       "135        0           0\n",
       "79         1           1\n",
       "302        0           0\n",
       "86         0           0\n",
       "23         1           1\n",
       "281        0           0\n",
       "163        0           0\n",
       "119        1           1\n",
       "32         1           0\n",
       "279        0           0\n",
       "273        0           0\n",
       "180        1           1\n",
       "27         0           0"
      ]
     },
     "execution_count": 70,
     "metadata": {},
     "output_type": "execute_result"
    }
   ],
   "source": [
    "resultats[\"reality\"]=y_test\n",
    "resultats[\"prediction\"]=y_pred\n",
    "resultats"
   ]
  },
  {
   "cell_type": "code",
   "execution_count": 71,
   "id": "3aa17809",
   "metadata": {
    "ExecuteTime": {
     "end_time": "2023-10-10T07:30:16.699833Z",
     "start_time": "2023-10-10T07:30:16.605278Z"
    }
   },
   "outputs": [
    {
     "data": {
      "text/html": [
       "<div>\n",
       "<style scoped>\n",
       "    .dataframe tbody tr th:only-of-type {\n",
       "        vertical-align: middle;\n",
       "    }\n",
       "\n",
       "    .dataframe tbody tr th {\n",
       "        vertical-align: top;\n",
       "    }\n",
       "\n",
       "    .dataframe thead th {\n",
       "        text-align: right;\n",
       "    }\n",
       "</style>\n",
       "<table border=\"1\" class=\"dataframe\">\n",
       "  <thead>\n",
       "    <tr style=\"text-align: right;\">\n",
       "      <th>prediction</th>\n",
       "      <th>0</th>\n",
       "      <th>1</th>\n",
       "    </tr>\n",
       "    <tr>\n",
       "      <th>reality</th>\n",
       "      <th></th>\n",
       "      <th></th>\n",
       "    </tr>\n",
       "  </thead>\n",
       "  <tbody>\n",
       "    <tr>\n",
       "      <th>0</th>\n",
       "      <td>13</td>\n",
       "      <td>0</td>\n",
       "    </tr>\n",
       "    <tr>\n",
       "      <th>1</th>\n",
       "      <td>4</td>\n",
       "      <td>14</td>\n",
       "    </tr>\n",
       "  </tbody>\n",
       "</table>\n",
       "</div>"
      ],
      "text/plain": [
       "prediction   0   1\n",
       "reality           \n",
       "0           13   0\n",
       "1            4  14"
      ]
     },
     "execution_count": 71,
     "metadata": {},
     "output_type": "execute_result"
    }
   ],
   "source": [
    "pandas.crosstab(resultats[\"reality\"],resultats[\"prediction\"])"
   ]
  },
  {
   "cell_type": "code",
   "execution_count": null,
   "id": "8cbc4374",
   "metadata": {
    "ExecuteTime": {
     "end_time": "2023-10-03T10:12:44.707745Z",
     "start_time": "2023-10-03T10:12:44.658647Z"
    }
   },
   "outputs": [],
   "source": []
  },
  {
   "cell_type": "code",
   "execution_count": 72,
   "id": "9c6d75b3",
   "metadata": {
    "ExecuteTime": {
     "end_time": "2023-10-10T07:30:16.737757Z",
     "start_time": "2023-10-10T07:30:16.703090Z"
    }
   },
   "outputs": [
    {
     "data": {
      "text/plain": [
       "array([[13,  0],\n",
       "       [ 4, 14]], dtype=int64)"
      ]
     },
     "execution_count": 72,
     "metadata": {},
     "output_type": "execute_result"
    }
   ],
   "source": [
    "sklearn.metrics.confusion_matrix(y_test, y_pred)"
   ]
  },
  {
   "cell_type": "code",
   "execution_count": 73,
   "id": "5946149e",
   "metadata": {
    "ExecuteTime": {
     "end_time": "2023-10-10T07:30:16.842203Z",
     "start_time": "2023-10-10T07:30:16.767622Z"
    }
   },
   "outputs": [
    {
     "name": "stdout",
     "output_type": "stream",
     "text": [
      "              precision    recall  f1-score   support\n",
      "\n",
      "           0       0.76      1.00      0.87        13\n",
      "           1       1.00      0.78      0.88        18\n",
      "\n",
      "    accuracy                           0.87        31\n",
      "   macro avg       0.88      0.89      0.87        31\n",
      "weighted avg       0.90      0.87      0.87        31\n",
      "\n"
     ]
    }
   ],
   "source": [
    "print(sklearn.metrics.classification_report(y_test, y_pred))"
   ]
  },
  {
   "cell_type": "code",
   "execution_count": 74,
   "id": "94d5cbea",
   "metadata": {
    "ExecuteTime": {
     "end_time": "2023-10-10T07:30:16.866950Z",
     "start_time": "2023-10-10T07:30:16.842203Z"
    }
   },
   "outputs": [],
   "source": [
    "#dans le domaine medical, il faudra minimiser les faux negatifs!!!!"
   ]
  },
  {
   "cell_type": "code",
   "execution_count": null,
   "id": "db3cc0b3",
   "metadata": {},
   "outputs": [],
   "source": []
  },
  {
   "cell_type": "markdown",
   "id": "88c818e4",
   "metadata": {},
   "source": [
    "## Audit du modèle avec la variable sex"
   ]
  },
  {
   "cell_type": "raw",
   "id": "0e301d6b",
   "metadata": {
    "ExecuteTime": {
     "end_time": "2023-10-10T07:30:16.914546Z",
     "start_time": "2023-10-10T07:30:16.871109Z"
    }
   },
   "source": [
    "Pour auditer le modèle avec la variable sex, nous allons évaluer les performances du modèle séparément pour les hommes et les femmes. Cela nous aidera à déterminer si le modèle présente un biais en fonction du genre."
   ]
  },
  {
   "cell_type": "code",
   "execution_count": null,
   "id": "7a1904a6",
   "metadata": {
    "ExecuteTime": {
     "end_time": "2023-10-10T07:30:16.924117Z",
     "start_time": "2023-10-10T07:30:16.924117Z"
    }
   },
   "outputs": [],
   "source": [
    "#https://kobia.fr/imbalanced-data-smote/    technique d equilibrage de donnees\n",
    "#http://aequitas.dssg.io/   audit de modele"
   ]
  },
  {
   "cell_type": "code",
   "execution_count": null,
   "id": "6057b719",
   "metadata": {
    "ExecuteTime": {
     "end_time": "2023-10-10T07:30:16.934119Z",
     "start_time": "2023-10-10T07:30:16.934119Z"
    }
   },
   "outputs": [],
   "source": [
    "X_test"
   ]
  },
  {
   "cell_type": "code",
   "execution_count": null,
   "id": "45c98fe6",
   "metadata": {
    "ExecuteTime": {
     "end_time": "2023-10-10T07:30:16.938708Z",
     "start_time": "2023-10-10T07:30:16.938708Z"
    }
   },
   "outputs": [],
   "source": [
    "from sklearn.metrics import accuracy_score, classification_report\n",
    "\n",
    "clf=sklearn.svm.SVC()\n",
    "clf.fit(X_train, y_train) #on entraine le modele\n",
    "\n",
    "# Split the test data based on the 'sex' column\n",
    "X_test_men = X_test[X_test['sex'] >0]\n",
    "y_test_men = y_test[X_test_men.index]\n",
    "\n",
    "X_test_women = X_test[X_test['sex'] <0]\n",
    "y_test_women = y_test[X_test_women.index]\n",
    "\n",
    "# Predict using the trained model for men and women separately\n",
    "y_pred_men = clf.predict(X_test_men)\n",
    "y_pred_women = clf.predict(X_test_women)\n",
    "\n",
    "# Calculate accuracy for men and women\n",
    "accuracy_men = accuracy_score(y_test_men, y_pred_men)\n",
    "accuracy_women = accuracy_score(y_test_women, y_pred_women)\n",
    "\n",
    "print(\"precision man, women\", accuracy_men,accuracy_women)\n"
   ]
  },
  {
   "cell_type": "code",
   "execution_count": null,
   "id": "b27e2650",
   "metadata": {
    "ExecuteTime": {
     "end_time": "2023-10-10T07:30:16.964437Z",
     "start_time": "2023-10-10T07:30:16.964437Z"
    }
   },
   "outputs": [],
   "source": [
    "#le modele est biasé et est en faveur pour les femmes"
   ]
  },
  {
   "cell_type": "code",
   "execution_count": null,
   "id": "a57d6372",
   "metadata": {
    "ExecuteTime": {
     "end_time": "2023-10-10T07:30:16.972791Z",
     "start_time": "2023-10-10T07:30:16.972791Z"
    }
   },
   "outputs": [],
   "source": [
    "data.num=data.num.apply(lambda x: 1 if x>=1 else 0)\n",
    "pandas.crosstab(data[\"sex\"],data[\"num\"])"
   ]
  },
  {
   "cell_type": "code",
   "execution_count": null,
   "id": "7f901369",
   "metadata": {
    "ExecuteTime": {
     "end_time": "2023-10-10T07:30:16.989158Z",
     "start_time": "2023-10-10T07:30:16.989158Z"
    }
   },
   "outputs": [],
   "source": [
    "72/97"
   ]
  },
  {
   "cell_type": "code",
   "execution_count": null,
   "id": "e06e51f3",
   "metadata": {
    "ExecuteTime": {
     "end_time": "2023-10-10T07:30:17.029303Z",
     "start_time": "2023-10-10T07:30:17.029303Z"
    }
   },
   "outputs": [],
   "source": [
    "114/(114+92)"
   ]
  },
  {
   "cell_type": "markdown",
   "id": "448e144d",
   "metadata": {},
   "source": [
    "## Encodage des variables non numeriques"
   ]
  },
  {
   "cell_type": "code",
   "execution_count": 81,
   "id": "659c98e6",
   "metadata": {
    "ExecuteTime": {
     "end_time": "2023-10-10T07:56:49.730124Z",
     "start_time": "2023-10-10T07:56:49.689836Z"
    }
   },
   "outputs": [
    {
     "data": {
      "text/plain": [
       "age          41\n",
       "sex           2\n",
       "cp            4\n",
       "trestbps     50\n",
       "chol        152\n",
       "fbs           2\n",
       "restecg       3\n",
       "thalach      91\n",
       "exang         2\n",
       "oldpeak      40\n",
       "slope         3\n",
       "ca            4\n",
       "thal          4\n",
       "num           5\n",
       "dtype: int64"
      ]
     },
     "execution_count": 81,
     "metadata": {},
     "output_type": "execute_result"
    }
   ],
   "source": [
    "data.nunique()"
   ]
  },
  {
   "cell_type": "code",
   "execution_count": 84,
   "id": "4c1aff2a",
   "metadata": {
    "ExecuteTime": {
     "end_time": "2023-10-10T07:58:58.337788Z",
     "start_time": "2023-10-10T07:58:56.935281Z"
    }
   },
   "outputs": [
    {
     "data": {
      "image/png": "[encoded data removed]",
      "text/plain": [
       "<Figure size 720x720 with 16 Axes>"
      ]
     },
     "metadata": {
      "needs_background": "light"
     },
     "output_type": "display_data"
    }
   ],
   "source": [
    "data.hist(figsize=(10,10));"
   ]
  },
  {
   "cell_type": "code",
   "execution_count": 85,
   "id": "f50c4016",
   "metadata": {
    "ExecuteTime": {
     "end_time": "2023-10-10T08:03:33.986263Z",
     "start_time": "2023-10-10T08:03:33.945885Z"
    }
   },
   "outputs": [
    {
     "data": {
      "text/html": [
       "<div>\n",
       "<style scoped>\n",
       "    .dataframe tbody tr th:only-of-type {\n",
       "        vertical-align: middle;\n",
       "    }\n",
       "\n",
       "    .dataframe tbody tr th {\n",
       "        vertical-align: top;\n",
       "    }\n",
       "\n",
       "    .dataframe thead th {\n",
       "        text-align: right;\n",
       "    }\n",
       "</style>\n",
       "<table border=\"1\" class=\"dataframe\">\n",
       "  <thead>\n",
       "    <tr style=\"text-align: right;\">\n",
       "      <th></th>\n",
       "      <th>age</th>\n",
       "      <th>sex</th>\n",
       "      <th>cp</th>\n",
       "      <th>trestbps</th>\n",
       "      <th>chol</th>\n",
       "      <th>fbs</th>\n",
       "      <th>restecg</th>\n",
       "      <th>thalach</th>\n",
       "      <th>exang</th>\n",
       "      <th>oldpeak</th>\n",
       "      <th>slope</th>\n",
       "      <th>ca</th>\n",
       "      <th>thal</th>\n",
       "      <th>num</th>\n",
       "    </tr>\n",
       "  </thead>\n",
       "  <tbody>\n",
       "    <tr>\n",
       "      <th>0</th>\n",
       "      <td>63</td>\n",
       "      <td>1</td>\n",
       "      <td>1</td>\n",
       "      <td>145</td>\n",
       "      <td>233</td>\n",
       "      <td>1</td>\n",
       "      <td>2</td>\n",
       "      <td>150</td>\n",
       "      <td>0</td>\n",
       "      <td>2.30</td>\n",
       "      <td>3</td>\n",
       "      <td>0.00</td>\n",
       "      <td>6.00</td>\n",
       "      <td>0</td>\n",
       "    </tr>\n",
       "    <tr>\n",
       "      <th>1</th>\n",
       "      <td>67</td>\n",
       "      <td>1</td>\n",
       "      <td>4</td>\n",
       "      <td>160</td>\n",
       "      <td>286</td>\n",
       "      <td>0</td>\n",
       "      <td>2</td>\n",
       "      <td>108</td>\n",
       "      <td>1</td>\n",
       "      <td>1.50</td>\n",
       "      <td>2</td>\n",
       "      <td>3.00</td>\n",
       "      <td>3.00</td>\n",
       "      <td>2</td>\n",
       "    </tr>\n",
       "    <tr>\n",
       "      <th>2</th>\n",
       "      <td>67</td>\n",
       "      <td>1</td>\n",
       "      <td>4</td>\n",
       "      <td>120</td>\n",
       "      <td>229</td>\n",
       "      <td>0</td>\n",
       "      <td>2</td>\n",
       "      <td>129</td>\n",
       "      <td>1</td>\n",
       "      <td>2.60</td>\n",
       "      <td>2</td>\n",
       "      <td>2.00</td>\n",
       "      <td>7.00</td>\n",
       "      <td>1</td>\n",
       "    </tr>\n",
       "    <tr>\n",
       "      <th>3</th>\n",
       "      <td>37</td>\n",
       "      <td>1</td>\n",
       "      <td>3</td>\n",
       "      <td>130</td>\n",
       "      <td>250</td>\n",
       "      <td>0</td>\n",
       "      <td>0</td>\n",
       "      <td>187</td>\n",
       "      <td>0</td>\n",
       "      <td>3.50</td>\n",
       "      <td>3</td>\n",
       "      <td>0.00</td>\n",
       "      <td>3.00</td>\n",
       "      <td>0</td>\n",
       "    </tr>\n",
       "    <tr>\n",
       "      <th>4</th>\n",
       "      <td>41</td>\n",
       "      <td>0</td>\n",
       "      <td>2</td>\n",
       "      <td>130</td>\n",
       "      <td>204</td>\n",
       "      <td>0</td>\n",
       "      <td>2</td>\n",
       "      <td>172</td>\n",
       "      <td>0</td>\n",
       "      <td>1.40</td>\n",
       "      <td>1</td>\n",
       "      <td>0.00</td>\n",
       "      <td>3.00</td>\n",
       "      <td>0</td>\n",
       "    </tr>\n",
       "  </tbody>\n",
       "</table>\n",
       "</div>"
      ],
      "text/plain": [
       "   age  sex  cp  trestbps  chol  fbs  restecg  thalach  exang  oldpeak  slope  \\\n",
       "0   63    1   1       145   233    1        2      150      0     2.30      3   \n",
       "1   67    1   4       160   286    0        2      108      1     1.50      2   \n",
       "2   67    1   4       120   229    0        2      129      1     2.60      2   \n",
       "3   37    1   3       130   250    0        0      187      0     3.50      3   \n",
       "4   41    0   2       130   204    0        2      172      0     1.40      1   \n",
       "\n",
       "    ca  thal  num  \n",
       "0 0.00  6.00    0  \n",
       "1 3.00  3.00    2  \n",
       "2 2.00  7.00    1  \n",
       "3 0.00  3.00    0  \n",
       "4 0.00  3.00    0  "
      ]
     },
     "execution_count": 85,
     "metadata": {},
     "output_type": "execute_result"
    }
   ],
   "source": [
    "data.head()"
   ]
  },
  {
   "cell_type": "code",
   "execution_count": 87,
   "id": "a09e9406",
   "metadata": {
    "ExecuteTime": {
     "end_time": "2023-10-10T08:03:57.126117Z",
     "start_time": "2023-10-10T08:03:57.089242Z"
    }
   },
   "outputs": [
    {
     "data": {
      "text/html": [
       "<div>\n",
       "<style scoped>\n",
       "    .dataframe tbody tr th:only-of-type {\n",
       "        vertical-align: middle;\n",
       "    }\n",
       "\n",
       "    .dataframe tbody tr th {\n",
       "        vertical-align: top;\n",
       "    }\n",
       "\n",
       "    .dataframe thead th {\n",
       "        text-align: right;\n",
       "    }\n",
       "</style>\n",
       "<table border=\"1\" class=\"dataframe\">\n",
       "  <thead>\n",
       "    <tr style=\"text-align: right;\">\n",
       "      <th></th>\n",
       "      <th>age</th>\n",
       "      <th>cp</th>\n",
       "      <th>trestbps</th>\n",
       "      <th>chol</th>\n",
       "      <th>fbs</th>\n",
       "      <th>restecg</th>\n",
       "      <th>thalach</th>\n",
       "      <th>exang</th>\n",
       "      <th>oldpeak</th>\n",
       "      <th>slope</th>\n",
       "      <th>ca</th>\n",
       "      <th>thal</th>\n",
       "      <th>num</th>\n",
       "      <th>sex_0</th>\n",
       "      <th>sex_1</th>\n",
       "    </tr>\n",
       "  </thead>\n",
       "  <tbody>\n",
       "    <tr>\n",
       "      <th>0</th>\n",
       "      <td>63</td>\n",
       "      <td>1</td>\n",
       "      <td>145</td>\n",
       "      <td>233</td>\n",
       "      <td>1</td>\n",
       "      <td>2</td>\n",
       "      <td>150</td>\n",
       "      <td>0</td>\n",
       "      <td>2.30</td>\n",
       "      <td>3</td>\n",
       "      <td>0.00</td>\n",
       "      <td>6.00</td>\n",
       "      <td>0</td>\n",
       "      <td>0</td>\n",
       "      <td>1</td>\n",
       "    </tr>\n",
       "    <tr>\n",
       "      <th>1</th>\n",
       "      <td>67</td>\n",
       "      <td>4</td>\n",
       "      <td>160</td>\n",
       "      <td>286</td>\n",
       "      <td>0</td>\n",
       "      <td>2</td>\n",
       "      <td>108</td>\n",
       "      <td>1</td>\n",
       "      <td>1.50</td>\n",
       "      <td>2</td>\n",
       "      <td>3.00</td>\n",
       "      <td>3.00</td>\n",
       "      <td>2</td>\n",
       "      <td>0</td>\n",
       "      <td>1</td>\n",
       "    </tr>\n",
       "    <tr>\n",
       "      <th>2</th>\n",
       "      <td>67</td>\n",
       "      <td>4</td>\n",
       "      <td>120</td>\n",
       "      <td>229</td>\n",
       "      <td>0</td>\n",
       "      <td>2</td>\n",
       "      <td>129</td>\n",
       "      <td>1</td>\n",
       "      <td>2.60</td>\n",
       "      <td>2</td>\n",
       "      <td>2.00</td>\n",
       "      <td>7.00</td>\n",
       "      <td>1</td>\n",
       "      <td>0</td>\n",
       "      <td>1</td>\n",
       "    </tr>\n",
       "    <tr>\n",
       "      <th>3</th>\n",
       "      <td>37</td>\n",
       "      <td>3</td>\n",
       "      <td>130</td>\n",
       "      <td>250</td>\n",
       "      <td>0</td>\n",
       "      <td>0</td>\n",
       "      <td>187</td>\n",
       "      <td>0</td>\n",
       "      <td>3.50</td>\n",
       "      <td>3</td>\n",
       "      <td>0.00</td>\n",
       "      <td>3.00</td>\n",
       "      <td>0</td>\n",
       "      <td>0</td>\n",
       "      <td>1</td>\n",
       "    </tr>\n",
       "    <tr>\n",
       "      <th>4</th>\n",
       "      <td>41</td>\n",
       "      <td>2</td>\n",
       "      <td>130</td>\n",
       "      <td>204</td>\n",
       "      <td>0</td>\n",
       "      <td>2</td>\n",
       "      <td>172</td>\n",
       "      <td>0</td>\n",
       "      <td>1.40</td>\n",
       "      <td>1</td>\n",
       "      <td>0.00</td>\n",
       "      <td>3.00</td>\n",
       "      <td>0</td>\n",
       "      <td>1</td>\n",
       "      <td>0</td>\n",
       "    </tr>\n",
       "  </tbody>\n",
       "</table>\n",
       "</div>"
      ],
      "text/plain": [
       "   age  cp  trestbps  chol  fbs  restecg  thalach  exang  oldpeak  slope   ca  \\\n",
       "0   63   1       145   233    1        2      150      0     2.30      3 0.00   \n",
       "1   67   4       160   286    0        2      108      1     1.50      2 3.00   \n",
       "2   67   4       120   229    0        2      129      1     2.60      2 2.00   \n",
       "3   37   3       130   250    0        0      187      0     3.50      3 0.00   \n",
       "4   41   2       130   204    0        2      172      0     1.40      1 0.00   \n",
       "\n",
       "   thal  num  sex_0  sex_1  \n",
       "0  6.00    0      0      1  \n",
       "1  3.00    2      0      1  \n",
       "2  7.00    1      0      1  \n",
       "3  3.00    0      0      1  \n",
       "4  3.00    0      1      0  "
      ]
     },
     "execution_count": 87,
     "metadata": {},
     "output_type": "execute_result"
    }
   ],
   "source": [
    "#on encode la variable car elle est qualitative NOMINALE(y'a pas d'odre) \n",
    "data=pandas.get_dummies(data,columns=[\"sex\"])\n",
    "data.head()"
   ]
  },
  {
   "cell_type": "code",
   "execution_count": 89,
   "id": "fe6079d7",
   "metadata": {
    "ExecuteTime": {
     "end_time": "2023-10-10T08:12:23.654179Z",
     "start_time": "2023-10-10T08:12:23.592109Z"
    }
   },
   "outputs": [
    {
     "data": {
      "text/html": [
       "<div>\n",
       "<style scoped>\n",
       "    .dataframe tbody tr th:only-of-type {\n",
       "        vertical-align: middle;\n",
       "    }\n",
       "\n",
       "    .dataframe tbody tr th {\n",
       "        vertical-align: top;\n",
       "    }\n",
       "\n",
       "    .dataframe thead th {\n",
       "        text-align: right;\n",
       "    }\n",
       "</style>\n",
       "<table border=\"1\" class=\"dataframe\">\n",
       "  <thead>\n",
       "    <tr style=\"text-align: right;\">\n",
       "      <th></th>\n",
       "      <th>age</th>\n",
       "      <th>cp</th>\n",
       "      <th>trestbps</th>\n",
       "      <th>chol</th>\n",
       "      <th>fbs</th>\n",
       "      <th>restecg</th>\n",
       "      <th>thalach</th>\n",
       "      <th>exang</th>\n",
       "      <th>oldpeak</th>\n",
       "      <th>slope</th>\n",
       "      <th>ca</th>\n",
       "      <th>thal</th>\n",
       "      <th>sex_0</th>\n",
       "      <th>sex_1</th>\n",
       "    </tr>\n",
       "  </thead>\n",
       "  <tbody>\n",
       "    <tr>\n",
       "      <th>0</th>\n",
       "      <td>63</td>\n",
       "      <td>1</td>\n",
       "      <td>145</td>\n",
       "      <td>233</td>\n",
       "      <td>1</td>\n",
       "      <td>2</td>\n",
       "      <td>150</td>\n",
       "      <td>0</td>\n",
       "      <td>2.30</td>\n",
       "      <td>3</td>\n",
       "      <td>0.00</td>\n",
       "      <td>6.00</td>\n",
       "      <td>0</td>\n",
       "      <td>1</td>\n",
       "    </tr>\n",
       "    <tr>\n",
       "      <th>1</th>\n",
       "      <td>67</td>\n",
       "      <td>4</td>\n",
       "      <td>160</td>\n",
       "      <td>286</td>\n",
       "      <td>0</td>\n",
       "      <td>2</td>\n",
       "      <td>108</td>\n",
       "      <td>1</td>\n",
       "      <td>1.50</td>\n",
       "      <td>2</td>\n",
       "      <td>3.00</td>\n",
       "      <td>3.00</td>\n",
       "      <td>0</td>\n",
       "      <td>1</td>\n",
       "    </tr>\n",
       "    <tr>\n",
       "      <th>2</th>\n",
       "      <td>67</td>\n",
       "      <td>4</td>\n",
       "      <td>120</td>\n",
       "      <td>229</td>\n",
       "      <td>0</td>\n",
       "      <td>2</td>\n",
       "      <td>129</td>\n",
       "      <td>1</td>\n",
       "      <td>2.60</td>\n",
       "      <td>2</td>\n",
       "      <td>2.00</td>\n",
       "      <td>7.00</td>\n",
       "      <td>0</td>\n",
       "      <td>1</td>\n",
       "    </tr>\n",
       "    <tr>\n",
       "      <th>3</th>\n",
       "      <td>37</td>\n",
       "      <td>3</td>\n",
       "      <td>130</td>\n",
       "      <td>250</td>\n",
       "      <td>0</td>\n",
       "      <td>0</td>\n",
       "      <td>187</td>\n",
       "      <td>0</td>\n",
       "      <td>3.50</td>\n",
       "      <td>3</td>\n",
       "      <td>0.00</td>\n",
       "      <td>3.00</td>\n",
       "      <td>0</td>\n",
       "      <td>1</td>\n",
       "    </tr>\n",
       "    <tr>\n",
       "      <th>4</th>\n",
       "      <td>41</td>\n",
       "      <td>2</td>\n",
       "      <td>130</td>\n",
       "      <td>204</td>\n",
       "      <td>0</td>\n",
       "      <td>2</td>\n",
       "      <td>172</td>\n",
       "      <td>0</td>\n",
       "      <td>1.40</td>\n",
       "      <td>1</td>\n",
       "      <td>0.00</td>\n",
       "      <td>3.00</td>\n",
       "      <td>1</td>\n",
       "      <td>0</td>\n",
       "    </tr>\n",
       "  </tbody>\n",
       "</table>\n",
       "</div>"
      ],
      "text/plain": [
       "   age  cp  trestbps  chol  fbs  restecg  thalach  exang  oldpeak  slope   ca  \\\n",
       "0   63   1       145   233    1        2      150      0     2.30      3 0.00   \n",
       "1   67   4       160   286    0        2      108      1     1.50      2 3.00   \n",
       "2   67   4       120   229    0        2      129      1     2.60      2 2.00   \n",
       "3   37   3       130   250    0        0      187      0     3.50      3 0.00   \n",
       "4   41   2       130   204    0        2      172      0     1.40      1 0.00   \n",
       "\n",
       "   thal  sex_0  sex_1  \n",
       "0  6.00      0      1  \n",
       "1  3.00      0      1  \n",
       "2  7.00      0      1  \n",
       "3  3.00      0      1  \n",
       "4  3.00      1      0  "
      ]
     },
     "execution_count": 89,
     "metadata": {},
     "output_type": "execute_result"
    }
   ],
   "source": [
    "X=data.drop(columns=[\"num\"])\n",
    "y=data.num\n",
    "X.head()"
   ]
  },
  {
   "cell_type": "code",
   "execution_count": 90,
   "id": "23010fc4",
   "metadata": {
    "ExecuteTime": {
     "end_time": "2023-10-10T08:12:54.902493Z",
     "start_time": "2023-10-10T08:12:54.846938Z"
    }
   },
   "outputs": [
    {
     "data": {
      "text/html": [
       "<div>\n",
       "<style scoped>\n",
       "    .dataframe tbody tr th:only-of-type {\n",
       "        vertical-align: middle;\n",
       "    }\n",
       "\n",
       "    .dataframe tbody tr th {\n",
       "        vertical-align: top;\n",
       "    }\n",
       "\n",
       "    .dataframe thead th {\n",
       "        text-align: right;\n",
       "    }\n",
       "</style>\n",
       "<table border=\"1\" class=\"dataframe\">\n",
       "  <thead>\n",
       "    <tr style=\"text-align: right;\">\n",
       "      <th></th>\n",
       "      <th>age</th>\n",
       "      <th>cp</th>\n",
       "      <th>trestbps</th>\n",
       "      <th>chol</th>\n",
       "      <th>fbs</th>\n",
       "      <th>restecg</th>\n",
       "      <th>thalach</th>\n",
       "      <th>exang</th>\n",
       "      <th>oldpeak</th>\n",
       "      <th>slope</th>\n",
       "      <th>ca</th>\n",
       "      <th>thal</th>\n",
       "      <th>sex_0</th>\n",
       "      <th>sex_1</th>\n",
       "    </tr>\n",
       "  </thead>\n",
       "  <tbody>\n",
       "    <tr>\n",
       "      <th>0</th>\n",
       "      <td>0.95</td>\n",
       "      <td>-2.25</td>\n",
       "      <td>0.76</td>\n",
       "      <td>-0.26</td>\n",
       "      <td>2.39</td>\n",
       "      <td>1.02</td>\n",
       "      <td>0.02</td>\n",
       "      <td>-0.70</td>\n",
       "      <td>1.09</td>\n",
       "      <td>2.27</td>\n",
       "      <td>-0.71</td>\n",
       "      <td>0.65</td>\n",
       "      <td>-0.69</td>\n",
       "      <td>0.69</td>\n",
       "    </tr>\n",
       "    <tr>\n",
       "      <th>1</th>\n",
       "      <td>1.39</td>\n",
       "      <td>0.88</td>\n",
       "      <td>1.61</td>\n",
       "      <td>0.76</td>\n",
       "      <td>-0.42</td>\n",
       "      <td>1.02</td>\n",
       "      <td>-1.82</td>\n",
       "      <td>1.43</td>\n",
       "      <td>0.40</td>\n",
       "      <td>0.65</td>\n",
       "      <td>2.50</td>\n",
       "      <td>-0.90</td>\n",
       "      <td>-0.69</td>\n",
       "      <td>0.69</td>\n",
       "    </tr>\n",
       "    <tr>\n",
       "      <th>2</th>\n",
       "      <td>1.39</td>\n",
       "      <td>0.88</td>\n",
       "      <td>-0.66</td>\n",
       "      <td>-0.34</td>\n",
       "      <td>-0.42</td>\n",
       "      <td>1.02</td>\n",
       "      <td>-0.90</td>\n",
       "      <td>1.43</td>\n",
       "      <td>1.34</td>\n",
       "      <td>0.65</td>\n",
       "      <td>1.43</td>\n",
       "      <td>1.17</td>\n",
       "      <td>-0.69</td>\n",
       "      <td>0.69</td>\n",
       "    </tr>\n",
       "    <tr>\n",
       "      <th>3</th>\n",
       "      <td>-1.93</td>\n",
       "      <td>-0.16</td>\n",
       "      <td>-0.10</td>\n",
       "      <td>0.06</td>\n",
       "      <td>-0.42</td>\n",
       "      <td>-1.00</td>\n",
       "      <td>1.63</td>\n",
       "      <td>-0.70</td>\n",
       "      <td>2.12</td>\n",
       "      <td>2.27</td>\n",
       "      <td>-0.71</td>\n",
       "      <td>-0.90</td>\n",
       "      <td>-0.69</td>\n",
       "      <td>0.69</td>\n",
       "    </tr>\n",
       "    <tr>\n",
       "      <th>4</th>\n",
       "      <td>-1.49</td>\n",
       "      <td>-1.21</td>\n",
       "      <td>-0.10</td>\n",
       "      <td>-0.82</td>\n",
       "      <td>-0.42</td>\n",
       "      <td>1.02</td>\n",
       "      <td>0.98</td>\n",
       "      <td>-0.70</td>\n",
       "      <td>0.31</td>\n",
       "      <td>-0.97</td>\n",
       "      <td>-0.71</td>\n",
       "      <td>-0.90</td>\n",
       "      <td>1.45</td>\n",
       "      <td>-1.45</td>\n",
       "    </tr>\n",
       "  </tbody>\n",
       "</table>\n",
       "</div>"
      ],
      "text/plain": [
       "    age    cp  trestbps  chol   fbs  restecg  thalach  exang  oldpeak  slope  \\\n",
       "0  0.95 -2.25      0.76 -0.26  2.39     1.02     0.02  -0.70     1.09   2.27   \n",
       "1  1.39  0.88      1.61  0.76 -0.42     1.02    -1.82   1.43     0.40   0.65   \n",
       "2  1.39  0.88     -0.66 -0.34 -0.42     1.02    -0.90   1.43     1.34   0.65   \n",
       "3 -1.93 -0.16     -0.10  0.06 -0.42    -1.00     1.63  -0.70     2.12   2.27   \n",
       "4 -1.49 -1.21     -0.10 -0.82 -0.42     1.02     0.98  -0.70     0.31  -0.97   \n",
       "\n",
       "     ca  thal  sex_0  sex_1  \n",
       "0 -0.71  0.65  -0.69   0.69  \n",
       "1  2.50 -0.90  -0.69   0.69  \n",
       "2  1.43  1.17  -0.69   0.69  \n",
       "3 -0.71 -0.90  -0.69   0.69  \n",
       "4 -0.71 -0.90   1.45  -1.45  "
      ]
     },
     "execution_count": 90,
     "metadata": {},
     "output_type": "execute_result"
    }
   ],
   "source": [
    "X=(X-X.mean())/X.std()\n",
    "X.head()"
   ]
  },
  {
   "cell_type": "code",
   "execution_count": 91,
   "id": "0dc3997f",
   "metadata": {
    "ExecuteTime": {
     "end_time": "2023-10-10T08:13:19.259422Z",
     "start_time": "2023-10-10T08:13:19.233542Z"
    }
   },
   "outputs": [
    {
     "data": {
      "text/plain": [
       "0      0\n",
       "1      1\n",
       "2      1\n",
       "3      0\n",
       "4      0\n",
       "      ..\n",
       "298    1\n",
       "299    1\n",
       "300    1\n",
       "301    1\n",
       "302    0\n",
       "Name: num, Length: 303, dtype: int64"
      ]
     },
     "execution_count": 91,
     "metadata": {},
     "output_type": "execute_result"
    }
   ],
   "source": [
    "y=y.apply(lambda x: 1 if x>=1 else 0)\n",
    "y"
   ]
  },
  {
   "cell_type": "code",
   "execution_count": 92,
   "id": "095995f7",
   "metadata": {
    "ExecuteTime": {
     "end_time": "2023-10-10T08:13:33.539081Z",
     "start_time": "2023-10-10T08:13:33.506683Z"
    }
   },
   "outputs": [],
   "source": [
    "X_train,X_test,y_train,y_test=train_test_split(X,y, test_size=0.1) \n"
   ]
  },
  {
   "cell_type": "code",
   "execution_count": 93,
   "id": "945fd2de",
   "metadata": {
    "ExecuteTime": {
     "end_time": "2023-10-10T08:13:41.101601Z",
     "start_time": "2023-10-10T08:13:41.044682Z"
    }
   },
   "outputs": [
    {
     "name": "stdout",
     "output_type": "stream",
     "text": [
      "0.9154411764705882\n",
      "0.7419354838709677\n"
     ]
    }
   ],
   "source": [
    "svm = sklearn.svm.SVC() \n",
    "svm.fit(X_train, y_train) #on entraine le modele\n",
    "print(svm.score(X_train, y_train))\n",
    "print(svm.score(X_test, y_test))"
   ]
  },
  {
   "cell_type": "markdown",
   "id": "08a847df",
   "metadata": {},
   "source": [
    "## Lazy code"
   ]
  },
  {
   "cell_type": "code",
   "execution_count": null,
   "id": "4abdc41b",
   "metadata": {},
   "outputs": [],
   "source": [
    "#https://pypi.org/project/lazypredict/"
   ]
  },
  {
   "cell_type": "code",
   "execution_count": null,
   "id": "b55d10b7",
   "metadata": {},
   "outputs": [],
   "source": []
  },
  {
   "cell_type": "code",
   "execution_count": 76,
   "id": "9eaf5921",
   "metadata": {
    "ExecuteTime": {
     "end_time": "2023-10-10T07:34:38.750983Z",
     "start_time": "2023-10-10T07:34:34.119833Z"
    }
   },
   "outputs": [
    {
     "name": "stderr",
     "output_type": "stream",
     "text": [
      "100%|██████████████████████████████████████████████████████████████████████████████████| 29/29 [00:01<00:00, 21.93it/s]"
     ]
    },
    {
     "name": "stdout",
     "output_type": "stream",
     "text": [
      "                               Accuracy  Balanced Accuracy  ROC AUC  F1 Score  \\\n",
      "Model                                                                           \n",
      "AdaBoostClassifier                 0.90               0.92     0.92      0.90   \n",
      "SGDClassifier                      0.90               0.92     0.92      0.90   \n",
      "LinearDiscriminantAnalysis         0.87               0.89     0.89      0.87   \n",
      "SVC                                0.87               0.89     0.89      0.87   \n",
      "RidgeClassifierCV                  0.87               0.89     0.89      0.87   \n",
      "RidgeClassifier                    0.87               0.89     0.89      0.87   \n",
      "NuSVC                              0.87               0.89     0.89      0.87   \n",
      "NearestCentroid                    0.87               0.89     0.89      0.87   \n",
      "LogisticRegression                 0.87               0.89     0.89      0.87   \n",
      "LinearSVC                          0.87               0.89     0.89      0.87   \n",
      "ExtraTreesClassifier               0.87               0.89     0.89      0.87   \n",
      "BernoulliNB                        0.87               0.89     0.89      0.87   \n",
      "CalibratedClassifierCV             0.87               0.89     0.89      0.87   \n",
      "RandomForestClassifier             0.84               0.86     0.86      0.84   \n",
      "KNeighborsClassifier               0.84               0.86     0.86      0.84   \n",
      "GaussianNB                         0.84               0.86     0.86      0.84   \n",
      "LGBMClassifier                     0.84               0.85     0.85      0.84   \n",
      "QuadraticDiscriminantAnalysis      0.81               0.83     0.83      0.81   \n",
      "ExtraTreeClassifier                0.81               0.82     0.82      0.81   \n",
      "XGBClassifier                      0.77               0.79     0.79      0.77   \n",
      "LabelPropagation                   0.74               0.78     0.78      0.74   \n",
      "LabelSpreading                     0.74               0.78     0.78      0.74   \n",
      "BaggingClassifier                  0.77               0.77     0.77      0.78   \n",
      "DecisionTreeClassifier             0.71               0.71     0.71      0.71   \n",
      "PassiveAggressiveClassifier        0.65               0.67     0.67      0.64   \n",
      "Perceptron                         0.65               0.64     0.64      0.65   \n",
      "DummyClassifier                    0.42               0.50     0.50      0.25   \n",
      "\n",
      "                               Time Taken  \n",
      "Model                                      \n",
      "AdaBoostClassifier                   0.12  \n",
      "SGDClassifier                        0.01  \n",
      "LinearDiscriminantAnalysis           0.03  \n",
      "SVC                                  0.02  \n",
      "RidgeClassifierCV                    0.02  \n",
      "RidgeClassifier                      0.03  \n",
      "NuSVC                                0.02  \n",
      "NearestCentroid                      0.00  \n",
      "LogisticRegression                   0.04  \n",
      "LinearSVC                            0.04  \n",
      "ExtraTreesClassifier                 0.22  \n",
      "BernoulliNB                          0.03  \n",
      "CalibratedClassifierCV               0.07  \n",
      "RandomForestClassifier               0.16  \n",
      "KNeighborsClassifier                 0.02  \n",
      "GaussianNB                           0.01  \n",
      "LGBMClassifier                       0.11  \n",
      "QuadraticDiscriminantAnalysis        0.02  \n",
      "ExtraTreeClassifier                  0.01  \n",
      "XGBClassifier                        0.12  \n",
      "LabelPropagation                     0.03  \n",
      "LabelSpreading                       0.02  \n",
      "BaggingClassifier                    0.05  \n",
      "DecisionTreeClassifier               0.03  \n",
      "PassiveAggressiveClassifier          0.02  \n",
      "Perceptron                           0.03  \n",
      "DummyClassifier                      0.02  \n"
     ]
    },
    {
     "name": "stderr",
     "output_type": "stream",
     "text": [
      "\n"
     ]
    }
   ],
   "source": [
    "from lazypredict.Supervised import LazyClassifier\n",
    "clf = LazyClassifier()\n",
    "models,predictions = clf.fit(X_train, X_test, y_train, y_test)\n",
    "print(models)"
   ]
  },
  {
   "cell_type": "code",
   "execution_count": 134,
   "id": "e1af3c13",
   "metadata": {
    "ExecuteTime": {
     "end_time": "2023-10-10T09:57:55.863866Z",
     "start_time": "2023-10-10T09:57:55.785028Z"
    }
   },
   "outputs": [],
   "source": [
    "data2=pandas.read_csv(r\"C:\\Users\\sambe\\Desktop\\AIVANCITY\\BACHELOR2\\R ANALYSE/Labs-2PBS.csv\", sep=\";\")"
   ]
  },
  {
   "cell_type": "code",
   "execution_count": 135,
   "id": "cf10d53b",
   "metadata": {
    "ExecuteTime": {
     "end_time": "2023-10-10T09:58:17.184826Z",
     "start_time": "2023-10-10T09:58:17.127657Z"
    }
   },
   "outputs": [
    {
     "data": {
      "text/html": [
       "<div>\n",
       "<style scoped>\n",
       "    .dataframe tbody tr th:only-of-type {\n",
       "        vertical-align: middle;\n",
       "    }\n",
       "\n",
       "    .dataframe tbody tr th {\n",
       "        vertical-align: top;\n",
       "    }\n",
       "\n",
       "    .dataframe thead th {\n",
       "        text-align: right;\n",
       "    }\n",
       "</style>\n",
       "<table border=\"1\" class=\"dataframe\">\n",
       "  <thead>\n",
       "    <tr style=\"text-align: right;\">\n",
       "      <th></th>\n",
       "      <th>Sexe</th>\n",
       "      <th>Age</th>\n",
       "      <th>Statut</th>\n",
       "      <th>Occupation</th>\n",
       "      <th>Qualification</th>\n",
       "      <th>Etudie</th>\n",
       "      <th>NombreFS</th>\n",
       "      <th>NombreE</th>\n",
       "      <th>Jardinage</th>\n",
       "      <th>Cuisine</th>\n",
       "      <th>Sport</th>\n",
       "      <th>MinutesTV</th>\n",
       "      <th>LectureBD</th>\n",
       "      <th>MinutesL</th>\n",
       "      <th>EcouteRP</th>\n",
       "      <th>JournalIntime</th>\n",
       "      <th>Taille</th>\n",
       "    </tr>\n",
       "  </thead>\n",
       "  <tbody>\n",
       "    <tr>\n",
       "      <th>0</th>\n",
       "      <td>F</td>\n",
       "      <td>60</td>\n",
       "      <td>Marie</td>\n",
       "      <td>Autre inactif</td>\n",
       "      <td>Cadre</td>\n",
       "      <td>Non</td>\n",
       "      <td>3</td>\n",
       "      <td>1</td>\n",
       "      <td>Non</td>\n",
       "      <td>Non</td>\n",
       "      <td>Oui</td>\n",
       "      <td>120.00</td>\n",
       "      <td>Non</td>\n",
       "      <td>0</td>\n",
       "      <td>Non</td>\n",
       "      <td>Non</td>\n",
       "      <td>Comme il faut</td>\n",
       "    </tr>\n",
       "    <tr>\n",
       "      <th>1</th>\n",
       "      <td>H</td>\n",
       "      <td>50</td>\n",
       "      <td>Marie</td>\n",
       "      <td>Exerce profession</td>\n",
       "      <td>Non concerne</td>\n",
       "      <td>Non</td>\n",
       "      <td>3</td>\n",
       "      <td>3</td>\n",
       "      <td>Oui</td>\n",
       "      <td>Non</td>\n",
       "      <td>Oui</td>\n",
       "      <td>257.14</td>\n",
       "      <td>Non</td>\n",
       "      <td>0</td>\n",
       "      <td>Non</td>\n",
       "      <td>Non</td>\n",
       "      <td>Comme il faut</td>\n",
       "    </tr>\n",
       "    <tr>\n",
       "      <th>2</th>\n",
       "      <td>F</td>\n",
       "      <td>33</td>\n",
       "      <td>Marie</td>\n",
       "      <td>Exerce profession</td>\n",
       "      <td>Cadre</td>\n",
       "      <td>Non</td>\n",
       "      <td>0</td>\n",
       "      <td>1</td>\n",
       "      <td>Non</td>\n",
       "      <td>Non</td>\n",
       "      <td>Non</td>\n",
       "      <td>51.43</td>\n",
       "      <td>Non</td>\n",
       "      <td>60</td>\n",
       "      <td>Non</td>\n",
       "      <td>Oui</td>\n",
       "      <td>Pas assez</td>\n",
       "    </tr>\n",
       "    <tr>\n",
       "      <th>3</th>\n",
       "      <td>H</td>\n",
       "      <td>82</td>\n",
       "      <td>Marie</td>\n",
       "      <td>Retraite</td>\n",
       "      <td>Non concerne</td>\n",
       "      <td>Non</td>\n",
       "      <td>1</td>\n",
       "      <td>2</td>\n",
       "      <td>Non</td>\n",
       "      <td>Non</td>\n",
       "      <td>Oui</td>\n",
       "      <td>60.00</td>\n",
       "      <td>Non</td>\n",
       "      <td>0</td>\n",
       "      <td>Non</td>\n",
       "      <td>Oui</td>\n",
       "      <td>Comme il faut</td>\n",
       "    </tr>\n",
       "    <tr>\n",
       "      <th>4</th>\n",
       "      <td>H</td>\n",
       "      <td>58</td>\n",
       "      <td>Marie</td>\n",
       "      <td>Exerce profession</td>\n",
       "      <td>Employe de bureau</td>\n",
       "      <td>Non</td>\n",
       "      <td>0</td>\n",
       "      <td>3</td>\n",
       "      <td>Non</td>\n",
       "      <td>Non</td>\n",
       "      <td>Non</td>\n",
       "      <td>180.00</td>\n",
       "      <td>Non</td>\n",
       "      <td>0</td>\n",
       "      <td>Non</td>\n",
       "      <td>Non</td>\n",
       "      <td>Comme il faut</td>\n",
       "    </tr>\n",
       "    <tr>\n",
       "      <th>...</th>\n",
       "      <td>...</td>\n",
       "      <td>...</td>\n",
       "      <td>...</td>\n",
       "      <td>...</td>\n",
       "      <td>...</td>\n",
       "      <td>...</td>\n",
       "      <td>...</td>\n",
       "      <td>...</td>\n",
       "      <td>...</td>\n",
       "      <td>...</td>\n",
       "      <td>...</td>\n",
       "      <td>...</td>\n",
       "      <td>...</td>\n",
       "      <td>...</td>\n",
       "      <td>...</td>\n",
       "      <td>...</td>\n",
       "      <td>...</td>\n",
       "    </tr>\n",
       "    <tr>\n",
       "      <th>8398</th>\n",
       "      <td>F</td>\n",
       "      <td>66</td>\n",
       "      <td>Veuf</td>\n",
       "      <td>Retraite</td>\n",
       "      <td>Ouvrier specialise</td>\n",
       "      <td>Non</td>\n",
       "      <td>2</td>\n",
       "      <td>2</td>\n",
       "      <td>Non</td>\n",
       "      <td>Oui</td>\n",
       "      <td>Non</td>\n",
       "      <td>360.00</td>\n",
       "      <td>Non</td>\n",
       "      <td>0</td>\n",
       "      <td>Non</td>\n",
       "      <td>Non</td>\n",
       "      <td>Pas assez</td>\n",
       "    </tr>\n",
       "    <tr>\n",
       "      <th>8399</th>\n",
       "      <td>F</td>\n",
       "      <td>54</td>\n",
       "      <td>Marie</td>\n",
       "      <td>Autre inactif</td>\n",
       "      <td>Ouvrier specialise</td>\n",
       "      <td>Non</td>\n",
       "      <td>4</td>\n",
       "      <td>5</td>\n",
       "      <td>Oui</td>\n",
       "      <td>Oui</td>\n",
       "      <td>Non</td>\n",
       "      <td>360.00</td>\n",
       "      <td>Non</td>\n",
       "      <td>180</td>\n",
       "      <td>Non</td>\n",
       "      <td>Non</td>\n",
       "      <td>Pas assez</td>\n",
       "    </tr>\n",
       "    <tr>\n",
       "      <th>8400</th>\n",
       "      <td>H</td>\n",
       "      <td>42</td>\n",
       "      <td>Marie</td>\n",
       "      <td>Exerce profession</td>\n",
       "      <td>Non concerne</td>\n",
       "      <td>Non</td>\n",
       "      <td>2</td>\n",
       "      <td>1</td>\n",
       "      <td>Oui</td>\n",
       "      <td>Non</td>\n",
       "      <td>Oui</td>\n",
       "      <td>60.00</td>\n",
       "      <td>Non</td>\n",
       "      <td>0</td>\n",
       "      <td>Non</td>\n",
       "      <td>Non</td>\n",
       "      <td>Comme il faut</td>\n",
       "    </tr>\n",
       "    <tr>\n",
       "      <th>8401</th>\n",
       "      <td>F</td>\n",
       "      <td>59</td>\n",
       "      <td>Marie</td>\n",
       "      <td>Autre inactif</td>\n",
       "      <td>Employe de bureau</td>\n",
       "      <td>Non</td>\n",
       "      <td>7</td>\n",
       "      <td>3</td>\n",
       "      <td>Oui</td>\n",
       "      <td>Non</td>\n",
       "      <td>Non</td>\n",
       "      <td>180.00</td>\n",
       "      <td>Non</td>\n",
       "      <td>0</td>\n",
       "      <td>Non</td>\n",
       "      <td>Non</td>\n",
       "      <td>Comme il faut</td>\n",
       "    </tr>\n",
       "    <tr>\n",
       "      <th>8402</th>\n",
       "      <td>H</td>\n",
       "      <td>41</td>\n",
       "      <td>Divorce</td>\n",
       "      <td>Exerce profession</td>\n",
       "      <td>Ouvrier qualifie</td>\n",
       "      <td>Non</td>\n",
       "      <td>3</td>\n",
       "      <td>2</td>\n",
       "      <td>Non</td>\n",
       "      <td>Oui</td>\n",
       "      <td>Non</td>\n",
       "      <td>0.00</td>\n",
       "      <td>Non</td>\n",
       "      <td>0</td>\n",
       "      <td>Non</td>\n",
       "      <td>Non</td>\n",
       "      <td>Comme il faut</td>\n",
       "    </tr>\n",
       "  </tbody>\n",
       "</table>\n",
       "<p>8403 rows × 17 columns</p>\n",
       "</div>"
      ],
      "text/plain": [
       "     Sexe  Age   Statut         Occupation       Qualification Etudie  \\\n",
       "0       F   60    Marie      Autre inactif               Cadre    Non   \n",
       "1       H   50    Marie  Exerce profession        Non concerne    Non   \n",
       "2       F   33    Marie  Exerce profession               Cadre    Non   \n",
       "3       H   82    Marie           Retraite        Non concerne    Non   \n",
       "4       H   58    Marie  Exerce profession   Employe de bureau    Non   \n",
       "...   ...  ...      ...                ...                 ...    ...   \n",
       "8398    F   66     Veuf           Retraite  Ouvrier specialise    Non   \n",
       "8399    F   54    Marie      Autre inactif  Ouvrier specialise    Non   \n",
       "8400    H   42    Marie  Exerce profession        Non concerne    Non   \n",
       "8401    F   59    Marie      Autre inactif   Employe de bureau    Non   \n",
       "8402    H   41  Divorce  Exerce profession    Ouvrier qualifie    Non   \n",
       "\n",
       "      NombreFS  NombreE Jardinage Cuisine Sport  MinutesTV LectureBD MinutesL  \\\n",
       "0            3        1       Non     Non   Oui     120.00       Non        0   \n",
       "1            3        3       Oui     Non   Oui     257.14       Non        0   \n",
       "2            0        1       Non     Non   Non      51.43       Non       60   \n",
       "3            1        2       Non     Non   Oui      60.00       Non        0   \n",
       "4            0        3       Non     Non   Non     180.00       Non        0   \n",
       "...        ...      ...       ...     ...   ...        ...       ...      ...   \n",
       "8398         2        2       Non     Oui   Non     360.00       Non        0   \n",
       "8399         4        5       Oui     Oui   Non     360.00       Non      180   \n",
       "8400         2        1       Oui     Non   Oui      60.00       Non        0   \n",
       "8401         7        3       Oui     Non   Non     180.00       Non        0   \n",
       "8402         3        2       Non     Oui   Non       0.00       Non        0   \n",
       "\n",
       "     EcouteRP JournalIntime         Taille  \n",
       "0         Non           Non  Comme il faut  \n",
       "1         Non           Non  Comme il faut  \n",
       "2         Non           Oui      Pas assez  \n",
       "3         Non           Oui  Comme il faut  \n",
       "4         Non           Non  Comme il faut  \n",
       "...       ...           ...            ...  \n",
       "8398      Non           Non      Pas assez  \n",
       "8399      Non           Non      Pas assez  \n",
       "8400      Non           Non  Comme il faut  \n",
       "8401      Non           Non  Comme il faut  \n",
       "8402      Non           Non  Comme il faut  \n",
       "\n",
       "[8403 rows x 17 columns]"
      ]
     },
     "execution_count": 135,
     "metadata": {},
     "output_type": "execute_result"
    }
   ],
   "source": [
    "data2.MinutesTV=data2.MinutesTV.str.replace(',',\".\").astype(\"float64\")\n",
    "data2"
   ]
  },
  {
   "cell_type": "code",
   "execution_count": 136,
   "id": "0f46b28b",
   "metadata": {
    "ExecuteTime": {
     "end_time": "2023-10-10T09:58:40.503513Z",
     "start_time": "2023-10-10T09:58:40.463130Z"
    }
   },
   "outputs": [
    {
     "data": {
      "text/html": [
       "<div>\n",
       "<style scoped>\n",
       "    .dataframe tbody tr th:only-of-type {\n",
       "        vertical-align: middle;\n",
       "    }\n",
       "\n",
       "    .dataframe tbody tr th {\n",
       "        vertical-align: top;\n",
       "    }\n",
       "\n",
       "    .dataframe thead th {\n",
       "        text-align: right;\n",
       "    }\n",
       "</style>\n",
       "<table border=\"1\" class=\"dataframe\">\n",
       "  <thead>\n",
       "    <tr style=\"text-align: right;\">\n",
       "      <th></th>\n",
       "      <th>Age</th>\n",
       "      <th>NombreFS</th>\n",
       "      <th>NombreE</th>\n",
       "      <th>MinutesTV</th>\n",
       "    </tr>\n",
       "  </thead>\n",
       "  <tbody>\n",
       "    <tr>\n",
       "      <th>count</th>\n",
       "      <td>8403.00</td>\n",
       "      <td>8403.00</td>\n",
       "      <td>8403.00</td>\n",
       "      <td>8403.00</td>\n",
       "    </tr>\n",
       "    <tr>\n",
       "      <th>mean</th>\n",
       "      <td>48.20</td>\n",
       "      <td>3.29</td>\n",
       "      <td>1.94</td>\n",
       "      <td>139.33</td>\n",
       "    </tr>\n",
       "    <tr>\n",
       "      <th>std</th>\n",
       "      <td>16.94</td>\n",
       "      <td>2.73</td>\n",
       "      <td>1.65</td>\n",
       "      <td>114.78</td>\n",
       "    </tr>\n",
       "    <tr>\n",
       "      <th>min</th>\n",
       "      <td>17.00</td>\n",
       "      <td>0.00</td>\n",
       "      <td>0.00</td>\n",
       "      <td>0.00</td>\n",
       "    </tr>\n",
       "    <tr>\n",
       "      <th>25%</th>\n",
       "      <td>35.00</td>\n",
       "      <td>1.00</td>\n",
       "      <td>1.00</td>\n",
       "      <td>60.00</td>\n",
       "    </tr>\n",
       "    <tr>\n",
       "      <th>50%</th>\n",
       "      <td>48.00</td>\n",
       "      <td>3.00</td>\n",
       "      <td>2.00</td>\n",
       "      <td>120.00</td>\n",
       "    </tr>\n",
       "    <tr>\n",
       "      <th>75%</th>\n",
       "      <td>60.00</td>\n",
       "      <td>5.00</td>\n",
       "      <td>3.00</td>\n",
       "      <td>180.00</td>\n",
       "    </tr>\n",
       "    <tr>\n",
       "      <th>max</th>\n",
       "      <td>97.00</td>\n",
       "      <td>23.00</td>\n",
       "      <td>12.00</td>\n",
       "      <td>1440.00</td>\n",
       "    </tr>\n",
       "  </tbody>\n",
       "</table>\n",
       "</div>"
      ],
      "text/plain": [
       "          Age  NombreFS  NombreE  MinutesTV\n",
       "count 8403.00   8403.00  8403.00    8403.00\n",
       "mean    48.20      3.29     1.94     139.33\n",
       "std     16.94      2.73     1.65     114.78\n",
       "min     17.00      0.00     0.00       0.00\n",
       "25%     35.00      1.00     1.00      60.00\n",
       "50%     48.00      3.00     2.00     120.00\n",
       "75%     60.00      5.00     3.00     180.00\n",
       "max     97.00     23.00    12.00    1440.00"
      ]
     },
     "execution_count": 136,
     "metadata": {},
     "output_type": "execute_result"
    }
   ],
   "source": [
    "data2.describe()"
   ]
  },
  {
   "cell_type": "code",
   "execution_count": 139,
   "id": "354220f4",
   "metadata": {
    "ExecuteTime": {
     "end_time": "2023-10-10T10:01:13.128967Z",
     "start_time": "2023-10-10T10:01:12.913334Z"
    }
   },
   "outputs": [
    {
     "data": {
      "text/plain": [
       "<AxesSubplot:xlabel='Statut', ylabel='NombreE'>"
      ]
     },
     "execution_count": 139,
     "metadata": {},
     "output_type": "execute_result"
    },
    {
     "data": {
      "image/png": "[encoded data removed]",
      "text/plain": [
       "<Figure size 432x288 with 1 Axes>"
      ]
     },
     "metadata": {
      "needs_background": "light"
     },
     "output_type": "display_data"
    }
   ],
   "source": [
    "seaborn.boxplot(data=data2,y=\"NombreE\", x=\"Statut\")"
   ]
  },
  {
   "cell_type": "code",
   "execution_count": 141,
   "id": "3bfe04e8",
   "metadata": {
    "ExecuteTime": {
     "end_time": "2023-10-10T10:04:39.433068Z",
     "start_time": "2023-10-10T10:04:39.167008Z"
    }
   },
   "outputs": [
    {
     "data": {
      "text/plain": [
       "<AxesSubplot:xlabel='Age', ylabel='NombreE'>"
      ]
     },
     "execution_count": 141,
     "metadata": {},
     "output_type": "execute_result"
    },
    {
     "data": {
      "image/png": "[encoded data removed]",
      "text/plain": [
       "<Figure size 432x288 with 1 Axes>"
      ]
     },
     "metadata": {
      "needs_background": "light"
     },
     "output_type": "display_data"
    }
   ],
   "source": [
    "seaborn.scatterplot(data=data2,y=\"NombreE\", x=\"Age\")"
   ]
  },
  {
   "cell_type": "code",
   "execution_count": 132,
   "id": "4055d878",
   "metadata": {
    "ExecuteTime": {
     "end_time": "2023-10-10T09:45:22.600540Z",
     "start_time": "2023-10-10T09:45:19.883697Z"
    }
   },
   "outputs": [
    {
     "data": {
      "image/png": "[encoded data removed]",
      "text/plain": [
       "<Figure size 1152x576 with 2 Axes>"
      ]
     },
     "metadata": {
      "needs_background": "light"
     },
     "output_type": "display_data"
    }
   ],
   "source": [
    "# using dython library\n",
    "from dython.nominal import associations\n",
    "import matplotlib.pyplot as plt\n",
    "fig, ax = plt.subplots(figsize=(16, 8))\n",
    "r = associations(data2, ax = ax, cmap = \"Blues\")"
   ]
  },
  {
   "cell_type": "code",
   "execution_count": null,
   "id": "0f6780ff",
   "metadata": {},
   "outputs": [],
   "source": []
  },
  {
   "cell_type": "code",
   "execution_count": 121,
   "id": "d29b880b",
   "metadata": {
    "ExecuteTime": {
     "end_time": "2023-10-10T09:11:17.181011Z",
     "start_time": "2023-10-10T09:11:17.161695Z"
    }
   },
   "outputs": [
    {
     "data": {
      "text/plain": [
       "139.3295906223963"
      ]
     },
     "execution_count": 121,
     "metadata": {},
     "output_type": "execute_result"
    }
   ],
   "source": [
    "data2.MinutesTV.mean()"
   ]
  },
  {
   "cell_type": "markdown",
   "id": "20db3c4f",
   "metadata": {
    "ExecuteTime": {
     "end_time": "2023-10-10T08:26:25.088625Z",
     "start_time": "2023-10-10T08:26:25.048688Z"
    }
   },
   "source": [
    "data2.head()"
   ]
  },
  {
   "cell_type": "code",
   "execution_count": 103,
   "id": "e27ddae1",
   "metadata": {
    "ExecuteTime": {
     "end_time": "2023-10-10T08:30:49.250519Z",
     "start_time": "2023-10-10T08:30:49.218386Z"
    }
   },
   "outputs": [
    {
     "data": {
      "text/html": [
       "<div>\n",
       "<style scoped>\n",
       "    .dataframe tbody tr th:only-of-type {\n",
       "        vertical-align: middle;\n",
       "    }\n",
       "\n",
       "    .dataframe tbody tr th {\n",
       "        vertical-align: top;\n",
       "    }\n",
       "\n",
       "    .dataframe thead th {\n",
       "        text-align: right;\n",
       "    }\n",
       "</style>\n",
       "<table border=\"1\" class=\"dataframe\">\n",
       "  <thead>\n",
       "    <tr style=\"text-align: right;\">\n",
       "      <th></th>\n",
       "      <th>Sexe</th>\n",
       "      <th>Age</th>\n",
       "      <th>Statut</th>\n",
       "    </tr>\n",
       "  </thead>\n",
       "  <tbody>\n",
       "    <tr>\n",
       "      <th>0</th>\n",
       "      <td>F</td>\n",
       "      <td>60</td>\n",
       "      <td>Marie</td>\n",
       "    </tr>\n",
       "    <tr>\n",
       "      <th>1</th>\n",
       "      <td>H</td>\n",
       "      <td>50</td>\n",
       "      <td>Marie</td>\n",
       "    </tr>\n",
       "  </tbody>\n",
       "</table>\n",
       "</div>"
      ],
      "text/plain": [
       "  Sexe  Age Statut\n",
       "0    F   60  Marie\n",
       "1    H   50  Marie"
      ]
     },
     "execution_count": 103,
     "metadata": {},
     "output_type": "execute_result"
    }
   ],
   "source": [
    "d=data2[[\"Sexe\",\"Age\",\"Statut\"]]\n",
    "d.head(2)"
   ]
  },
  {
   "cell_type": "code",
   "execution_count": 104,
   "id": "eec3b524",
   "metadata": {
    "ExecuteTime": {
     "end_time": "2023-10-10T08:30:56.327823Z",
     "start_time": "2023-10-10T08:30:56.287644Z"
    }
   },
   "outputs": [
    {
     "data": {
      "text/html": [
       "<div>\n",
       "<style scoped>\n",
       "    .dataframe tbody tr th:only-of-type {\n",
       "        vertical-align: middle;\n",
       "    }\n",
       "\n",
       "    .dataframe tbody tr th {\n",
       "        vertical-align: top;\n",
       "    }\n",
       "\n",
       "    .dataframe thead th {\n",
       "        text-align: right;\n",
       "    }\n",
       "</style>\n",
       "<table border=\"1\" class=\"dataframe\">\n",
       "  <thead>\n",
       "    <tr style=\"text-align: right;\">\n",
       "      <th></th>\n",
       "      <th>Age</th>\n",
       "      <th>Sexe_F</th>\n",
       "      <th>Sexe_H</th>\n",
       "      <th>Statut_Celibataire</th>\n",
       "      <th>Statut_Divorce</th>\n",
       "      <th>Statut_Marie</th>\n",
       "      <th>Statut_Veuf</th>\n",
       "    </tr>\n",
       "  </thead>\n",
       "  <tbody>\n",
       "    <tr>\n",
       "      <th>0</th>\n",
       "      <td>60</td>\n",
       "      <td>1</td>\n",
       "      <td>0</td>\n",
       "      <td>0</td>\n",
       "      <td>0</td>\n",
       "      <td>1</td>\n",
       "      <td>0</td>\n",
       "    </tr>\n",
       "    <tr>\n",
       "      <th>1</th>\n",
       "      <td>50</td>\n",
       "      <td>0</td>\n",
       "      <td>1</td>\n",
       "      <td>0</td>\n",
       "      <td>0</td>\n",
       "      <td>1</td>\n",
       "      <td>0</td>\n",
       "    </tr>\n",
       "  </tbody>\n",
       "</table>\n",
       "</div>"
      ],
      "text/plain": [
       "   Age  Sexe_F  Sexe_H  Statut_Celibataire  Statut_Divorce  Statut_Marie  \\\n",
       "0   60       1       0                   0               0             1   \n",
       "1   50       0       1                   0               0             1   \n",
       "\n",
       "   Statut_Veuf  \n",
       "0            0  \n",
       "1            0  "
      ]
     },
     "execution_count": 104,
     "metadata": {},
     "output_type": "execute_result"
    }
   ],
   "source": [
    "d2=pandas.get_dummies(d, columns=[\"Sexe\",\"Statut\"])\n",
    "d2.head(2)"
   ]
  },
  {
   "cell_type": "code",
   "execution_count": 106,
   "id": "9b14629f",
   "metadata": {
    "ExecuteTime": {
     "end_time": "2023-10-10T08:34:51.013158Z",
     "start_time": "2023-10-10T08:34:50.989033Z"
    }
   },
   "outputs": [
    {
     "name": "stdout",
     "output_type": "stream",
     "text": [
      "<class 'pandas.core.frame.DataFrame'>\n",
      "RangeIndex: 8403 entries, 0 to 8402\n",
      "Data columns (total 7 columns):\n",
      " #   Column              Non-Null Count  Dtype\n",
      "---  ------              --------------  -----\n",
      " 0   Age                 8403 non-null   int64\n",
      " 1   Sexe_F              8403 non-null   uint8\n",
      " 2   Sexe_H              8403 non-null   uint8\n",
      " 3   Statut_Celibataire  8403 non-null   uint8\n",
      " 4   Statut_Divorce      8403 non-null   uint8\n",
      " 5   Statut_Marie        8403 non-null   uint8\n",
      " 6   Statut_Veuf         8403 non-null   uint8\n",
      "dtypes: int64(1), uint8(6)\n",
      "memory usage: 115.0 KB\n"
     ]
    }
   ],
   "source": [
    "d2.info()"
   ]
  },
  {
   "cell_type": "code",
   "execution_count": 143,
   "id": "979215e5",
   "metadata": {
    "ExecuteTime": {
     "end_time": "2023-10-10T10:18:46.115541Z",
     "start_time": "2023-10-10T10:18:46.069734Z"
    }
   },
   "outputs": [
    {
     "data": {
      "text/plain": [
       "21"
      ]
     },
     "execution_count": 143,
     "metadata": {},
     "output_type": "execute_result"
    }
   ],
   "source": [
    "data2.duplicated().sum()"
   ]
  },
  {
   "cell_type": "code",
   "execution_count": null,
   "id": "ba891e83",
   "metadata": {},
   "outputs": [],
   "source": [
    "import os\n",
    "\n",
    "# Chemin du dossier contenant les fichiers JSON\n",
    "dossier = 'chemin_du_dossier'\n",
    "\n",
    "#Liste des fichiers JSON dans le dossier\n",
    "fichiers = [f for f in os.listdir(dossier) if f.endswith('.json')]\n",
    "\n",
    "dfs = []\n",
    "\n",
    "for fichier in fichiers:\n",
    "    chemin_complet = os.path.join(dossier, fichier)\n",
    "    df = pd.read_json(chemin_complet)\n",
    "    dfs.append(df)"
   ]
  }
 ],
 "metadata": {
  "kernelspec": {
   "display_name": "Python 3 (ipykernel)",
   "language": "python",
   "name": "python3"
  },
  "language_info": {
   "codemirror_mode": {
    "name": "ipython",
    "version": 3
   },
   "file_extension": ".py",
   "mimetype": "text/x-python",
   "name": "python",
   "nbconvert_exporter": "python",
   "pygments_lexer": "ipython3",
   "version": "3.12.2"
  },
  "toc": {
   "base_numbering": 1,
   "nav_menu": {},
   "number_sections": true,
   "sideBar": true,
   "skip_h1_title": false,
   "title_cell": "Table of Contents",
   "title_sidebar": "Contents",
   "toc_cell": false,
   "toc_position": {},
   "toc_section_display": true,
   "toc_window_display": true
  }
 },
 "nbformat": 4,
 "nbformat_minor": 5
}
